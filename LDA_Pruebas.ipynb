{
 "cells": [
  {
   "cell_type": "markdown",
   "metadata": {},
   "source": [
    "LDA (LatentDirichletAllocation): [link](https://towardsdatascience.com/end-to-end-topic-modeling-in-python-latent-dirichlet-allocation-lda-35ce4ed6b3e0)"
   ]
  },
  {
   "cell_type": "code",
   "execution_count": 1,
   "metadata": {},
   "outputs": [],
   "source": [
    "import pandas as pd\n",
    "import re\n",
    "\n",
    "from sklearn.datasets import fetch_20newsgroups"
   ]
  },
  {
   "cell_type": "code",
   "execution_count": 2,
   "metadata": {},
   "outputs": [],
   "source": [
    "seed = 94487"
   ]
  },
  {
   "cell_type": "code",
   "execution_count": 12,
   "metadata": {},
   "outputs": [
    {
     "data": {
      "text/html": [
       "<div>\n",
       "<style scoped>\n",
       "    .dataframe tbody tr th:only-of-type {\n",
       "        vertical-align: middle;\n",
       "    }\n",
       "\n",
       "    .dataframe tbody tr th {\n",
       "        vertical-align: top;\n",
       "    }\n",
       "\n",
       "    .dataframe thead th {\n",
       "        text-align: right;\n",
       "    }\n",
       "</style>\n",
       "<table border=\"1\" class=\"dataframe\">\n",
       "  <thead>\n",
       "    <tr style=\"text-align: right;\">\n",
       "      <th></th>\n",
       "      <th>text</th>\n",
       "      <th>env_problems</th>\n",
       "      <th>pollution</th>\n",
       "      <th>treatment</th>\n",
       "      <th>climate</th>\n",
       "      <th>biomonitoring</th>\n",
       "    </tr>\n",
       "  </thead>\n",
       "  <tbody>\n",
       "    <tr>\n",
       "      <th>47</th>\n",
       "      <td>Main part (86%) of phosphate ions in wastewate...</td>\n",
       "      <td>1</td>\n",
       "      <td>1.0</td>\n",
       "      <td>NaN</td>\n",
       "      <td>NaN</td>\n",
       "      <td>NaN</td>\n",
       "    </tr>\n",
       "    <tr>\n",
       "      <th>36</th>\n",
       "      <td>The order of values of its organic forms estab...</td>\n",
       "      <td>1</td>\n",
       "      <td>1.0</td>\n",
       "      <td>NaN</td>\n",
       "      <td>NaN</td>\n",
       "      <td>1.0</td>\n",
       "    </tr>\n",
       "    <tr>\n",
       "      <th>62</th>\n",
       "      <td>Southern Bug basin is located in the right-ban...</td>\n",
       "      <td>0</td>\n",
       "      <td>NaN</td>\n",
       "      <td>NaN</td>\n",
       "      <td>NaN</td>\n",
       "      <td>NaN</td>\n",
       "    </tr>\n",
       "    <tr>\n",
       "      <th>90</th>\n",
       "      <td>Ladyzhyn water storage reservoir due to its bi...</td>\n",
       "      <td>1</td>\n",
       "      <td>1.0</td>\n",
       "      <td>NaN</td>\n",
       "      <td>NaN</td>\n",
       "      <td>1.0</td>\n",
       "    </tr>\n",
       "    <tr>\n",
       "      <th>65</th>\n",
       "      <td>At Podilska and Dnieper Elevations relief is f...</td>\n",
       "      <td>0</td>\n",
       "      <td>NaN</td>\n",
       "      <td>NaN</td>\n",
       "      <td>NaN</td>\n",
       "      <td>NaN</td>\n",
       "    </tr>\n",
       "  </tbody>\n",
       "</table>\n",
       "</div>"
      ],
      "text/plain": [
       "                                                 text  env_problems  \\\n",
       "47  Main part (86%) of phosphate ions in wastewate...             1   \n",
       "36  The order of values of its organic forms estab...             1   \n",
       "62  Southern Bug basin is located in the right-ban...             0   \n",
       "90  Ladyzhyn water storage reservoir due to its bi...             1   \n",
       "65  At Podilska and Dnieper Elevations relief is f...             0   \n",
       "\n",
       "    pollution  treatment  climate  biomonitoring  \n",
       "47        1.0        NaN      NaN            NaN  \n",
       "36        1.0        NaN      NaN            1.0  \n",
       "62        NaN        NaN      NaN            NaN  \n",
       "90        1.0        NaN      NaN            1.0  \n",
       "65        NaN        NaN      NaN            NaN  "
      ]
     },
     "execution_count": 12,
     "metadata": {},
     "output_type": "execute_result"
    }
   ],
   "source": [
    "df = pd.read_csv('./data/water_problem_nlp_en_for_Kaggle_100.csv',sep=';')\n",
    "df.sample(5, random_state=seed)"
   ]
  },
  {
   "cell_type": "code",
   "execution_count": 28,
   "metadata": {},
   "outputs": [],
   "source": [
    "# train = fetch_20newsgroups(subset='train')\n",
    "# test = fetch_20newsgroups(subset='test')"
   ]
  },
  {
   "cell_type": "code",
   "execution_count": 13,
   "metadata": {},
   "outputs": [],
   "source": [
    "# df = pd.DataFrame({'text':train.data})\n",
    "# df.sample(5, random_state=seed)"
   ]
  },
  {
   "cell_type": "code",
   "execution_count": 14,
   "metadata": {},
   "outputs": [
    {
     "data": {
      "text/html": [
       "<div>\n",
       "<style scoped>\n",
       "    .dataframe tbody tr th:only-of-type {\n",
       "        vertical-align: middle;\n",
       "    }\n",
       "\n",
       "    .dataframe tbody tr th {\n",
       "        vertical-align: top;\n",
       "    }\n",
       "\n",
       "    .dataframe thead th {\n",
       "        text-align: right;\n",
       "    }\n",
       "</style>\n",
       "<table border=\"1\" class=\"dataframe\">\n",
       "  <thead>\n",
       "    <tr style=\"text-align: right;\">\n",
       "      <th></th>\n",
       "      <th>text</th>\n",
       "      <th>env_problems</th>\n",
       "      <th>pollution</th>\n",
       "      <th>treatment</th>\n",
       "      <th>climate</th>\n",
       "      <th>biomonitoring</th>\n",
       "      <th>text_processed</th>\n",
       "    </tr>\n",
       "  </thead>\n",
       "  <tbody>\n",
       "    <tr>\n",
       "      <th>47</th>\n",
       "      <td>Main part (86%) of phosphate ions in wastewate...</td>\n",
       "      <td>1</td>\n",
       "      <td>1.0</td>\n",
       "      <td>NaN</td>\n",
       "      <td>NaN</td>\n",
       "      <td>NaN</td>\n",
       "      <td>main part (86%) of phosphate ions in wastewate...</td>\n",
       "    </tr>\n",
       "    <tr>\n",
       "      <th>36</th>\n",
       "      <td>The order of values of its organic forms estab...</td>\n",
       "      <td>1</td>\n",
       "      <td>1.0</td>\n",
       "      <td>NaN</td>\n",
       "      <td>NaN</td>\n",
       "      <td>1.0</td>\n",
       "      <td>the order of values of its organic forms estab...</td>\n",
       "    </tr>\n",
       "    <tr>\n",
       "      <th>62</th>\n",
       "      <td>Southern Bug basin is located in the right-ban...</td>\n",
       "      <td>0</td>\n",
       "      <td>NaN</td>\n",
       "      <td>NaN</td>\n",
       "      <td>NaN</td>\n",
       "      <td>NaN</td>\n",
       "      <td>southern bug basin is located in the right-ban...</td>\n",
       "    </tr>\n",
       "    <tr>\n",
       "      <th>90</th>\n",
       "      <td>Ladyzhyn water storage reservoir due to its bi...</td>\n",
       "      <td>1</td>\n",
       "      <td>1.0</td>\n",
       "      <td>NaN</td>\n",
       "      <td>NaN</td>\n",
       "      <td>1.0</td>\n",
       "      <td>ladyzhyn water storage reservoir due to its bi...</td>\n",
       "    </tr>\n",
       "    <tr>\n",
       "      <th>65</th>\n",
       "      <td>At Podilska and Dnieper Elevations relief is f...</td>\n",
       "      <td>0</td>\n",
       "      <td>NaN</td>\n",
       "      <td>NaN</td>\n",
       "      <td>NaN</td>\n",
       "      <td>NaN</td>\n",
       "      <td>at podilska and dnieper elevations relief is f...</td>\n",
       "    </tr>\n",
       "  </tbody>\n",
       "</table>\n",
       "</div>"
      ],
      "text/plain": [
       "                                                 text  env_problems  \\\n",
       "47  Main part (86%) of phosphate ions in wastewate...             1   \n",
       "36  The order of values of its organic forms estab...             1   \n",
       "62  Southern Bug basin is located in the right-ban...             0   \n",
       "90  Ladyzhyn water storage reservoir due to its bi...             1   \n",
       "65  At Podilska and Dnieper Elevations relief is f...             0   \n",
       "\n",
       "    pollution  treatment  climate  biomonitoring  \\\n",
       "47        1.0        NaN      NaN            NaN   \n",
       "36        1.0        NaN      NaN            1.0   \n",
       "62        NaN        NaN      NaN            NaN   \n",
       "90        1.0        NaN      NaN            1.0   \n",
       "65        NaN        NaN      NaN            NaN   \n",
       "\n",
       "                                       text_processed  \n",
       "47  main part (86%) of phosphate ions in wastewate...  \n",
       "36  the order of values of its organic forms estab...  \n",
       "62  southern bug basin is located in the right-ban...  \n",
       "90  ladyzhyn water storage reservoir due to its bi...  \n",
       "65  at podilska and dnieper elevations relief is f...  "
      ]
     },
     "execution_count": 14,
     "metadata": {},
     "output_type": "execute_result"
    }
   ],
   "source": [
    "# Remove punctuation\n",
    "df['text_processed'] = \\\n",
    "df['text'].map(lambda x: re.sub('[,\\.!?]', '', x))\n",
    "\n",
    "# Convert the titles to lowercase\n",
    "df['text_processed'] = \\\n",
    "df['text_processed'].map(lambda x: x.lower())\n",
    "\n",
    "# Print out the first rows of papers\n",
    "df.sample(5, random_state=seed)"
   ]
  },
  {
   "cell_type": "code",
   "execution_count": 15,
   "metadata": {},
   "outputs": [
    {
     "name": "stdout",
     "output_type": "stream",
     "text": [
      "['southern', 'bug', 'basin', 'wastewater', 'discharged', 'organized', 'sources', 'map', 'reference', 'year', 'mln', 'discharged', 'total']\n"
     ]
    },
    {
     "name": "stderr",
     "output_type": "stream",
     "text": [
      "[nltk_data] Downloading package stopwords to\n",
      "[nltk_data]     /Users/carlosmorote/nltk_data...\n",
      "[nltk_data]   Package stopwords is already up-to-date!\n"
     ]
    }
   ],
   "source": [
    "import gensim\n",
    "from gensim.utils import simple_preprocess\n",
    "import nltk\n",
    "nltk.download('stopwords')\n",
    "from nltk.corpus import stopwords\n",
    "stop_words = stopwords.words('english')\n",
    "stop_words.extend(['from', 'subject', 're', 'edu', 'use'])\n",
    "def sent_to_words(sentences):\n",
    "    for sentence in sentences:\n",
    "        # deacc=True removes punctuations\n",
    "        yield(gensim.utils.simple_preprocess(str(sentence), deacc=True))\n",
    "def remove_stopwords(texts):\n",
    "    return [[word for word in simple_preprocess(str(doc)) \n",
    "             if word not in stop_words] for doc in texts]\n",
    "data = df.text_processed.values.tolist()\n",
    "data_words = list(sent_to_words(data))\n",
    "# remove stop words\n",
    "data_words = remove_stopwords(data_words)\n",
    "print(data_words[:1][0][:30])"
   ]
  },
  {
   "cell_type": "code",
   "execution_count": 16,
   "metadata": {},
   "outputs": [
    {
     "name": "stdout",
     "output_type": "stream",
     "text": [
      "[(0, 1), (1, 1), (2, 2), (3, 1), (4, 1), (5, 1), (6, 1), (7, 1), (8, 1), (9, 1), (10, 1), (11, 1)]\n"
     ]
    }
   ],
   "source": [
    "import gensim.corpora as corpora\n",
    "\n",
    "# Create Dictionary\n",
    "id2word = corpora.Dictionary(data_words)\n",
    "\n",
    "# Create Corpus\n",
    "texts = data_words\n",
    "\n",
    "# Term Document Frequency\n",
    "corpus = [id2word.doc2bow(text) for text in texts]\n",
    "\n",
    "# View\n",
    "print(corpus[:1][0][:30])"
   ]
  },
  {
   "cell_type": "code",
   "execution_count": 23,
   "metadata": {},
   "outputs": [
    {
     "name": "stdout",
     "output_type": "stream",
     "text": [
      "[(0,\n",
      "  '0.019*\"oc\" + 0.016*\"observed\" + 0.015*\"temperature\" + 0.012*\"river\" + '\n",
      "  '0.012*\"vinnitsya\" + 0.012*\"khmelnitsky\" + 0.012*\"wwtps\" + '\n",
      "  '0.012*\"downstream\" + 0.012*\"volumes\" + 0.012*\"wastewater\"'),\n",
      " (1,\n",
      "  '0.024*\"basin\" + 0.021*\"water\" + 0.021*\"bodies\" + 0.014*\"southern\" + '\n",
      "  '0.014*\"bug\" + 0.014*\"organic\" + 0.014*\"phosphorus\" + 0.014*\"within\" + '\n",
      "  '0.014*\"discharged\" + 0.014*\"kg\"'),\n",
      " (2,\n",
      "  '0.022*\"nitrogen\" + 0.021*\"part\" + 0.015*\"waters\" + 0.012*\"also\" + '\n",
      "  '0.012*\"lower\" + 0.012*\"basin\" + 0.011*\"surface\" + 0.011*\"average\" + '\n",
      "  '0.009*\"vinnistya\" + 0.009*\"inorganic\"'),\n",
      " (3,\n",
      "  '0.042*\"nitrogen\" + 0.024*\"part\" + 0.019*\"basin\" + 0.014*\"main\" + '\n",
      "  '0.014*\"tons\" + 0.012*\"forms\" + 0.010*\"compounds\" + 0.010*\"wastewater\" + '\n",
      "  '0.010*\"khmelnitsky\" + 0.010*\"kirovograd\"'),\n",
      " (4,\n",
      "  '0.020*\"wastewater\" + 0.014*\"days\" + 0.014*\"values\" + 0.014*\"temperature\" + '\n",
      "  '0.014*\"settlements\" + 0.011*\"water\" + 0.010*\"tons\" + 0.010*\"oc\" + '\n",
      "  '0.010*\"many\" + 0.010*\"treatment\"'),\n",
      " (5,\n",
      "  '0.045*\"basin\" + 0.031*\"river\" + 0.025*\"located\" + 0.024*\"climate\" + '\n",
      "  '0.023*\"southern\" + 0.018*\"bug\" + 0.014*\"ukraine\" + 0.012*\"air\" + '\n",
      "  '0.011*\"parts\" + 0.011*\"monitoring\"'),\n",
      " (6,\n",
      "  '0.021*\"bug\" + 0.020*\"southern\" + 0.018*\"waters\" + 0.017*\"treatment\" + '\n",
      "  '0.017*\"wastewaters\" + 0.015*\"water\" + 0.013*\"biological\" + 0.010*\"basin\" + '\n",
      "  '0.010*\"river\" + 0.009*\"nitrogen\"'),\n",
      " (7,\n",
      "  '0.023*\"users\" + 0.020*\"part\" + 0.018*\"mln\" + 0.017*\"wastewater\" + '\n",
      "  '0.014*\"treatment\" + 0.013*\"khmelnitsky\" + 0.012*\"picture\" + 0.009*\"eh\" + '\n",
      "  '0.009*\"facilities\" + 0.009*\"rural\"'),\n",
      " (8,\n",
      "  '0.026*\"water\" + 0.025*\"bug\" + 0.021*\"due\" + 0.017*\"estuary\" + 0.016*\"forms\" '\n",
      "  '+ 0.012*\"river\" + 0.009*\"belongs\" + 0.009*\"hardly\" + 0.009*\"dnieper\" + '\n",
      "  '0.009*\"elements\"'),\n",
      " (9,\n",
      "  '0.025*\"water\" + 0.015*\"discharges\" + 0.012*\"south\" + 0.012*\"north\" + '\n",
      "  '0.011*\"pollutants\" + 0.011*\"done\" + 0.011*\"status\" + 0.011*\"basin\" + '\n",
      "  '0.011*\"eu\" + 0.010*\"compounds\"')]\n"
     ]
    }
   ],
   "source": [
    "from pprint import pprint\n",
    "\n",
    "# number of topics\n",
    "num_topics = 10\n",
    "\n",
    "# Build LDA model\n",
    "lda_model = gensim.models.LdaMulticore(corpus=corpus,\n",
    "                                       id2word=id2word,\n",
    "                                       num_topics=num_topics)\n",
    "\n",
    "# Print the Keyword in the 5 topics\n",
    "pprint(lda_model.print_topics())\n",
    "doc_lda = lda_model[corpus]"
   ]
  },
  {
   "cell_type": "code",
   "execution_count": 24,
   "metadata": {},
   "outputs": [
    {
     "name": "stderr",
     "output_type": "stream",
     "text": [
      "/Users/carlosmorote/opt/anaconda3/lib/python3.9/site-packages/pyLDAvis/_prepare.py:246: FutureWarning: In a future version of pandas all arguments of DataFrame.drop except for the argument 'labels' will be keyword-only\n",
      "  default_term_info = default_term_info.sort_values(\n"
     ]
    },
    {
     "data": {
      "text/html": [
       "\n",
       "<link rel=\"stylesheet\" type=\"text/css\" href=\"https://cdn.jsdelivr.net/gh/bmabey/pyLDAvis@3.3.1/pyLDAvis/js/ldavis.v1.0.0.css\">\n",
       "\n",
       "\n",
       "<div id=\"ldavis_el679201406623124157447635118820\"></div>\n",
       "<script type=\"text/javascript\">\n",
       "\n",
       "var ldavis_el679201406623124157447635118820_data = {\"mdsDat\": {\"x\": [-0.0038686410727787443, -0.12271020249086187, 0.0003819003525514149, -0.12482940882039253, -0.011372637888108182, -0.029451688135248514, 0.12876244727366407, 0.056467222213336686, 0.06305193939805769, 0.04356906916978037], \"y\": [0.02095881053673816, -0.031679851927663524, 0.1129888513032796, -0.06090991950506229, -0.07411007266487431, 0.09315636765610602, -0.08944164374766998, 0.08021829867350828, -0.01720236138838173, -0.0339784789359801], \"topics\": [1, 2, 3, 4, 5, 6, 7, 8, 9, 10], \"cluster\": [1, 1, 1, 1, 1, 1, 1, 1, 1, 1], \"Freq\": [13.746861851773254, 12.25861505692374, 11.237470571688222, 10.983154000579097, 10.932617944084107, 10.462514336947294, 10.291493244488748, 8.628270751899827, 5.875480268584049, 5.583521973031663]}, \"tinfo\": {\"Term\": [\"nitrogen\", \"basin\", \"water\", \"climate\", \"bug\", \"river\", \"users\", \"located\", \"treatment\", \"bodies\", \"oc\", \"mln\", \"due\", \"forms\", \"southern\", \"organic\", \"phosphorus\", \"temperature\", \"wastewater\", \"values\", \"tons\", \"part\", \"observed\", \"north\", \"estuary\", \"discharged\", \"khmelnitsky\", \"air\", \"main\", \"days\", \"causes\", \"elevations\", \"south\", \"limits\", \"solid\", \"reducing\", \"valleys\", \"destruction\", \"flat\", \"deeply\", \"direct\", \"besides\", \"liquid\", \"field\", \"plateau\", \"anaerobic\", \"dependency\", \"processing\", \"size\", \"noticeable\", \"loq\", \"place\", \"intensively\", \"norm\", \"takes\", \"system\", \"balance\", \"extracting\", \"lod\", \"dissected\", \"containing\", \"discharges\", \"done\", \"north\", \"status\", \"assessment\", \"eu\", \"pollutants\", \"water\", \"mm\", \"directive\", \"phosphorus\", \"cities\", \"year\", \"main\", \"compounds\", \"kirovograd\", \"values\", \"tons\", \"bodies\", \"basin\", \"wastewaters\", \"khmelnitsky\", \"process\", \"nitrogen\", \"part\", \"electric\", \"ladyzhyn\", \"site\", \"related\", \"also\", \"insignificant\", \"assume\", \"show\", \"wit\", \"march\", \"min\", \"beginning\", \"end\", \"mygiya\", \"february\", \"extraction\", \"technologies\", \"centers\", \"melts\", \"kirogovrad\", \"december\", \"ineffectively\", \"investigated\", \"cost\", \"high\", \"rapids\", \"deep\", \"tendency\", \"considered\", \"contributes\", \"accidents\", \"corresponding\", \"vinnistya\", \"surface\", \"nitrogen\", \"waters\", \"lower\", \"part\", \"significant\", \"inorganic\", \"concentrations\", \"lead\", \"average\", \"ukraine\", \"second\", \"mm\", \"much\", \"comes\", \"higher\", \"compounds\", \"khmelnitsky\", \"mg\", \"basin\", \"oxygen\", \"makes\", \"wastewater\", \"wastewaters\", \"ions\", \"ammonia\", \"days\", \"many\", \"highest\", \"icpdr\", \"fact\", \"protection\", \"distinguished\", \"danube\", \"rise\", \"commission\", \"active\", \"reservoirs\", \"bright\", \"ninorg\", \"efficiency\", \"regarding\", \"cold\", \"dull\", \"especially\", \"offered\", \"group\", \"provide\", \"determined\", \"forests\", \"whole\", \"urgent\", \"modernization\", \"confirm\", \"vegetation\", \"international\", \"summer\", \"settlements\", \"values\", \"temperature\", \"wastewater\", \"communal\", \"discharge\", \"tons\", \"facilities\", \"treatment\", \"oc\", \"year\", \"vodocanals\", \"water\", \"compounds\", \"conditions\", \"winter\", \"mentioned\", \"precipitation\", \"river\", \"half\", \"considerable\", \"judgment\", \"pic\", \"using\", \"taking\", \"bod\", \"networks\", \"penetration\", \"decrease\", \"enterprises\", \"financial\", \"dissolved\", \"spatial\", \"current\", \"uman\", \"assessed\", \"agricultural\", \"produced\", \"depth\", \"seven\", \"frequent\", \"repaired\", \"phosphates\", \"approximately\", \"difficulties\", \"bring\", \"frost\", \"state\", \"concern\", \"since\", \"territory\", \"cm\", \"nitrogen\", \"main\", \"forms\", \"tons\", \"snow\", \"ammonia\", \"part\", \"total\", \"pollution\", \"inorganic\", \"mineral\", \"organic\", \"amount\", \"form\", \"basin\", \"kirovograd\", \"compounds\", \"average\", \"ions\", \"khmelnitsky\", \"wastewaters\", \"wastewater\", \"southern\", \"bug\", \"second\", \"facilities\", \"cover\", \"biological\", \"along\", \"majority\", \"volume\", \"research\", \"throughout\", \"capacity\", \"biotope\", \"convincingly\", \"intensification\", \"without\", \"conclusion\", \"long\", \"issue\", \"plan\", \"proper\", \"worn\", \"physical\", \"components\", \"forth\", \"confidence\", \"exceeds\", \"enter\", \"change\", \"known\", \"comply\", \"parameters\", \"general\", \"shall\", \"heated\", \"entering\", \"increase\", \"length\", \"treatment\", \"wastewaters\", \"waters\", \"chemical\", \"southern\", \"bug\", \"diversity\", \"water\", \"facilities\", \"bodies\", \"winter\", \"river\", \"reservoir\", \"wastewater\", \"nitrogen\", \"big\", \"basin\", \"receiving\", \"characterized\", \"ladyzhyn\", \"part\", \"power\", \"storage\", \"composition\", \"first\", \"due\", \"settlements\", \"wwtps\", \"users\", \"mln\", \"rural\", \"dm\", \"follows\", \"ranges\", \"physically\", \"distributed\", \"present\", \"close\", \"connection\", \"sewers\", \"cooling\", \"accurate\", \"given\", \"lowlands\", \"dry\", \"greater\", \"soviet\", \"technologically\", \"constructed\", \"existing\", \"influence\", \"towns\", \"inefficiently\", \"outdated\", \"rainy\", \"estimates\", \"transition\", \"geological\", \"picture\", \"elevation\", \"eh\", \"treatment\", \"mine\", \"part\", \"wastewater\", \"khmelnitsky\", \"facilities\", \"oc\", \"discharges\", \"time\", \"mg\", \"smoline\", \"major\", \"nitrate\", \"wwtps\", \"vatutino\", \"bug\", \"basin\", \"southern\", \"agriculture\", \"lack\", \"climate\", \"displacement\", \"districts\", \"impact\", \"spreads\", \"following\", \"input\", \"among\", \"villages\", \"circulation\", \"arctic\", \"atlantic\", \"formation\", \"eastern\", \"role\", \"plain\", \"connected\", \"localities\", \"areas\", \"fully\", \"collection\", \"cherkasy\", \"bank\", \"mediterranean\", \"plays\", \"influenced\", \"mykolayiv\", \"drought\", \"right\", \"borders\", \"located\", \"sea\", \"black\", \"west\", \"east\", \"monitoring\", \"moderately\", \"river\", \"continental\", \"basin\", \"ukraine\", \"km\", \"southern\", \"biggest\", \"north\", \"parts\", \"air\", \"area\", \"bug\", \"part\", \"urban\", \"lowest\", \"rivers\", \"waters\", \"volumes\", \"till\", \"exceed\", \"different\", \"generates\", \"widely\", \"effective\", \"near\", \"reaching\", \"dilution\", \"two\", \"nova\", \"additional\", \"odesa\", \"allow\", \"designed\", \"upstream\", \"vllage\", \"rate\", \"city\", \"kholodets\", \"case\", \"said\", \"document\", \"classified\", \"quality\", \"provisions\", \"downstream\", \"standards\", \"july\", \"observed\", \"vinnitsya\", \"varies\", \"oc\", \"maximum\", \"temperature\", \"pollutants\", \"wwtps\", \"khmelnitsky\", \"air\", \"river\", \"wastewater\", \"water\", \"wastewaters\", \"parts\", \"discharge\", \"large\", \"waters\", \"values\", \"khmelnytsky\", \"similar\", \"kg\", \"eutrofication\", \"five\", \"modified\", \"categories\", \"sources\", \"intensified\", \"production\", \"four\", \"artificial\", \"accordingly\", \"found\", \"multi\", \"district\", \"implementation\", \"organized\", \"factor\", \"heavily\", \"within\", \"discharged\", \"mineralization\", \"transitional\", \"project\", \"matter\", \"lakes\", \"autumn\", \"period\", \"namely\", \"bottom\", \"sediments\", \"bodies\", \"organic\", \"phosphorus\", \"basin\", \"water\", \"southern\", \"bug\", \"average\", \"annual\", \"air\", \"river\", \"per\", \"year\", \"middle\", \"observed\", \"temperature\", \"eh\", \"biggest\", \"map\", \"estuary\", \"belongs\", \"hardly\", \"elements\", \"leave\", \"ecosystems\", \"allochthonous\", \"order\", \"autochtonal\", \"washing\", \"detritus\", \"almost\", \"greatest\", \"deterioration\", \"risk\", \"ecological\", \"thus\", \"carries\", \"transitional\", \"mineralization\", \"rapid\", \"alternation\", \"established\", \"quicker\", \"flow\", \"communities\", \"oleksandrivske\", \"due\", \"plant\", \"forms\", \"dnieper\", \"entering\", \"process\", \"bug\", \"water\", \"khmelnytsky\", \"mineral\", \"river\", \"phosphorus\", \"organic\", \"values\", \"part\", \"southern\"], \"Freq\": [14.0, 19.0, 15.0, 4.0, 13.0, 11.0, 4.0, 6.0, 6.0, 6.0, 6.0, 3.0, 5.0, 4.0, 12.0, 4.0, 4.0, 6.0, 12.0, 5.0, 5.0, 15.0, 4.0, 4.0, 1.0, 3.0, 8.0, 6.0, 4.0, 2.0, 1.4953664709425853, 1.4953536579377036, 2.2075168414383652, 1.4953796398642694, 0.7833414721404053, 0.7833394256187922, 0.7833355105339672, 0.7833291040315263, 0.783329815865131, 0.7833242991546957, 0.7833228754874867, 0.7833218077370798, 0.7833188714234611, 0.7833225195706843, 0.783320117132269, 0.7833150453178367, 0.7833155791930401, 0.7833148673594356, 0.7833144224634327, 0.7833125539002208, 0.7833124649210202, 0.7833062363769805, 0.7833060584185794, 0.7833057914809777, 0.7833011645625482, 0.7833074820857884, 0.7832998298745396, 0.7833094396282009, 0.7833017874169521, 0.7833000968121413, 0.7833075710649889, 2.9195899779880525, 2.160793329345052, 2.2074118459816954, 2.1206279402503823, 1.4228986957282144, 2.0664598943623704, 2.1666081201021528, 4.8385892701679705, 1.495427688632576, 1.3566204026845348, 1.4952881692460858, 1.495425019256559, 1.6734699081749504, 1.4953595305649412, 1.8616982886399165, 1.4954025964980158, 1.4953257184687254, 1.4521660013165505, 1.4374935091013348, 2.1112570067633922, 1.4954230617141464, 1.4954157654197, 0.9547049128881667, 1.4953993932467955, 1.4953470734768617, 0.9152226171162553, 0.9573201005720526, 1.5283007380275577, 1.4196904970450848, 2.128017852040826, 0.8005738626891792, 0.8005721964181879, 0.8005723551106633, 0.8005616433685766, 0.8005614846761012, 0.8005553750158, 0.8005575173642173, 0.8005564858631274, 0.8005660867578867, 0.8005525978974812, 0.8005526772437188, 0.8005523598587682, 0.800538791652125, 0.8005405372693539, 0.8005355384563801, 0.8005356971488555, 0.8005272071014239, 0.8005260962540963, 0.8005332374154875, 0.8005336341466759, 0.8005333167617251, 0.8005218115572617, 0.8005266516777602, 0.800479440666341, 0.7937363593496585, 0.7935982968960968, 0.7929056835873961, 1.5283607237832433, 1.887067449465668, 3.810156186527941, 2.535005652503653, 2.022776652310207, 3.615121864772922, 1.208806367582478, 1.5283405698388728, 1.4935224885904335, 1.3562592103347118, 1.8143312294626674, 1.5234595066818055, 1.2366344420225772, 1.195111286305304, 0.9429468006127217, 1.1558607655276352, 0.9408507110519532, 1.528215837553241, 1.5282785210810077, 1.1025346189168832, 1.961210002185293, 1.0790117126407763, 1.070223005970489, 1.5178124349461843, 1.1656378882806908, 0.9573444134783067, 0.8251260483604593, 2.254724028804486, 1.5273362396443217, 0.800063447181719, 0.8000611196078278, 0.8000574100369386, 0.8000502091052129, 0.8000494817383719, 0.8000465722710078, 0.8000463540609556, 0.8000459903775351, 0.8000432991202234, 0.8000536277293655, 0.8000423535433301, 0.8000375529221795, 0.8000362436618658, 0.800036461871918, 0.8000405351262276, 0.8000362436618658, 0.8000321704075561, 0.8000299155703491, 0.8000291882035081, 0.8000292609401922, 0.8000267151562487, 0.8000290427301399, 0.800028388099983, 0.800027660733142, 0.8000280971532466, 0.8000179140174727, 0.8000197324345751, 0.8000102766656422, 1.5273168916863513, 2.1645351956688703, 2.2546073591631903, 2.2546059044295084, 3.0999667762643566, 1.4081960241365765, 1.440068657215511, 1.5715528699084165, 1.5273215468341337, 1.5273359486975853, 1.5273439497328363, 1.3454407042493022, 1.0089986266806805, 1.6416500852153277, 1.1531688444473824, 0.8000862865005262, 0.800080249355746, 0.800067811382765, 0.8000630834982985, 0.8000594466640935, 0.8000529003625245, 0.8000515183655267, 0.7758699832744491, 0.7758679927384525, 0.7758613813153212, 0.7758620922210343, 0.775855480797903, 0.7758618078587491, 0.7758566182470439, 0.7758486561030579, 0.7758537035336204, 0.7758539168053343, 0.7758428266762109, 0.775844248487637, 0.7758477319256308, 0.7758435375819239, 0.77583678397765, 0.7758428977667822, 0.7758342247170831, 0.7758362152530796, 0.7758436086724952, 0.7758396276005022, 0.7758357887096518, 0.775833727083084, 0.7758276843845231, 0.7758308834602318, 0.7758271867505239, 0.7758234189502448, 0.7758261203919543, 0.7758239165842439, 0.775821144051963, 0.7758224236822465, 1.4811473136060256, 6.412555504581305, 2.186509810442024, 1.760773829325171, 2.186455781607833, 1.481127123883775, 1.2538258279051526, 3.709352455023728, 1.4811448965266012, 1.4811839963408184, 1.4811515790403038, 1.2732386723923572, 1.481083900816422, 1.4811639487997106, 1.2459617889074723, 2.8917417849891085, 1.4812166980036185, 1.5926086563614499, 1.481165654973422, 1.278640418362342, 1.5398797843570613, 1.481136934382615, 1.5564295271755568, 1.4811886883185246, 1.481098829836396, 0.9430288692013579, 0.7758750307050117, 0.7758719027198743, 1.948408659328703, 1.3198964617766613, 0.6914136310634176, 0.6914087483841957, 0.6914013889836295, 0.6914007521124266, 0.6914018843278984, 0.6913977800468133, 0.6913974262294784, 0.6913948079812, 0.6913964355409405, 0.6913946664542661, 0.6913972847025444, 0.6913933219483933, 0.69139034988278, 0.6913926143137235, 0.6913919066790537, 0.6913897130115771, 0.6913938880561292, 0.6913902083558461, 0.6913874485806337, 0.6913879439249025, 0.6913881562153035, 0.6913871655267657, 0.6913901375923791, 0.6913865994190299, 0.6913851133862232, 0.6913828489552798, 0.6913849718592893, 0.6913812213955391, 1.3198660334858583, 1.3199501004846348, 1.3199488267422292, 2.5770427115708907, 2.5770359182780602, 2.6685429879733125, 1.3199162755474168, 3.0848175741207395, 3.1424801758809138, 0.8549344874404655, 2.352145657449833, 1.31990141521935, 1.3198532960618012, 1.0503637232959182, 1.5190323587961851, 0.8849649460320579, 1.3687325947730296, 1.439384397005791, 0.8618770911862326, 1.5305566139752762, 0.7841027337111648, 0.9379662166950845, 0.8623512771784901, 1.2319257255804508, 0.8577802402652135, 0.8353050555165328, 0.7366786149349884, 0.7355151220108431, 0.8111513613309996, 0.7693054558936783, 0.7823550176036024, 3.329436615889315, 2.6766999349960487, 1.3709179025725042, 1.1240762695668571, 0.7181446525383898, 0.7181358488563337, 0.7181393703291561, 0.718131582456568, 0.7181330723104544, 0.7181248781140792, 0.7181229142157743, 0.7181185800953775, 0.7181240654665048, 0.7181166839177039, 0.71811532950508, 0.7181202053905263, 0.7181222370094624, 0.7181111308259455, 0.7181139750924559, 0.7181122143560447, 0.7181105213402647, 0.7181085574419599, 0.718107609353123, 0.7180903405921669, 0.7180956228014005, 0.7180915595635285, 0.7180967063314997, 0.7180851938241957, 0.7180950133157197, 0.7180909500778477, 1.7461936765484414, 1.3294606865641057, 1.370954607154615, 1.9677755818368865, 1.2502783385327747, 2.955133851942468, 2.4503602490419727, 1.846444048387549, 1.3709406567045876, 1.370917496248717, 1.2118356387016407, 0.8389860240590971, 1.0104553394653917, 0.9739230386404273, 0.9091202185557125, 0.8805563335216008, 0.8804812313415993, 0.7768126606426401, 0.7850112588589437, 0.792383055888919, 0.7824148498587118, 0.7181371355483265, 0.7181356456944401, 3.4817939180615345, 0.8104013903374659, 0.810403388747397, 0.8103971936766106, 0.8103997249958567, 0.8103999248368497, 0.8103931302430839, 0.8103934633114058, 0.8103905989238379, 0.8103910652194884, 0.8103899994008585, 0.8103893332642148, 0.8103864688766469, 0.8103842706257226, 0.8103825386704491, 0.8103807401015111, 0.8103806734878466, 0.8103792746008949, 0.8103732127574371, 0.8103759439176763, 0.8103737456667521, 0.8103765434406557, 0.8103718138704854, 0.8103728796891153, 0.8103719470978141, 0.8103720803251429, 0.8103676838232944, 0.810365818640692, 0.8103608226158642, 0.8103686164145956, 3.5506969608491983, 1.5470829038166314, 1.547093428775602, 1.5470747769495783, 1.5470607880800604, 1.5471235381518975, 1.1510136430666493, 4.493821214647538, 1.109577612349898, 6.4730554698844465, 1.9628644801271544, 1.5470172227435621, 3.298777404932554, 1.5470397381621193, 1.5470400046167767, 1.5471247371978563, 1.727670016606017, 1.5470412036627355, 2.545927889133013, 1.1185410804139384, 0.8104087178405467, 0.8103985259498979, 0.8103980596542474, 0.8103978598132543, 1.463614378906172, 1.463580199845893, 1.418341867945034, 0.7666974757656931, 0.7666895453301382, 0.7666883725192463, 0.7666829552498884, 0.7666797160579011, 0.7666621238945223, 0.7666606159948042, 0.7666559247512365, 0.7666548077884823, 0.766660839387355, 0.7666528531036624, 0.766650786722567, 0.766656203991925, 0.7666452577569337, 0.7666444200348681, 0.7666373273213788, 0.7666250407310825, 0.7666161608771865, 0.7350391211823961, 0.7305193872456182, 0.7262335453095721, 0.7251896877676239, 0.7228727719265636, 0.7148930224660656, 1.463632697095341, 0.7009409290069378, 0.6770520556456587, 1.9065276408994596, 1.4636654241040394, 1.3635507120887833, 2.3140901486847163, 1.3398471986965654, 1.8193793027127398, 1.4333846755336488, 1.4636443135079849, 1.463655818224353, 1.292842613592472, 1.4636789393533653, 1.463604326241384, 1.366961581251318, 0.7667042333903561, 0.7666865295307018, 0.766684183908918, 0.7666829552498884, 0.7666824526166489, 0.7666805537799668, 0.7666759183845369, 0.7666740753959924, 1.1361543908569638, 0.5951836197123481, 0.5951738839880076, 0.5951702711215532, 0.5951693583973963, 0.5951714880870957, 0.595170993694844, 0.5951698147594747, 0.5951612579705036, 0.595160611457559, 0.5951662018930203, 0.5951621326644873, 0.5951599649446145, 0.5951484037719602, 0.5951524730004931, 0.5951501531599277, 0.5951516363366827, 0.5951377172932896, 1.1362226930480401, 1.1362173688237913, 0.6146795598249222, 0.5951789800312172, 0.5951767362509981, 0.5951594325221897, 0.5951535758755161, 0.5951406836467996, 0.5951519405780683, 0.5951672287076968, 0.5951640722033207, 0.5951455895391431, 1.7192397758089475, 1.1539903139091334, 1.1362268763670926, 1.949526926031867, 1.7523200937903962, 1.1834627854189574, 1.18247217546731, 0.9235613872005052, 0.7636594167008025, 0.7785876287700539, 0.6508168191889463, 0.6028346440482771, 0.6015746663798178, 0.5951989078419766, 0.5951857494020477, 0.5951849127382371, 0.5951772306432497, 0.595176926401864, 0.5951741501992202, 1.3178948607809993, 0.6903499833939655, 0.6903451405780704, 0.6903180352652251, 0.6903133370109985, 0.6902690288596006, 0.6687417725552994, 0.6668029837380953, 0.6662884164790387, 0.6637385654890484, 0.6635859806479375, 0.6584872183188022, 0.6448398017224063, 0.6369565648152912, 0.6313013123432317, 0.6232401200221824, 0.6173347035827687, 0.5969524479738906, 0.690283051341446, 0.6677078675021254, 0.44789856175672366, 0.44593570342171285, 0.6643122584705251, 0.4379484543941057, 0.42603306728852935, 0.4247088824049899, 0.42461726644757253, 1.6653268576679907, 0.4124538837996696, 1.2553587840391622, 0.6903340816104295, 0.6654352857923348, 0.6903029285708658, 1.9096901435116769, 1.9817276804779154, 0.6303239309024445, 0.6736412566243956, 0.9692745669788663, 0.6903163005252029, 0.6697348389371198, 0.6703464793565801, 0.6903016997966835, 0.6496930260575796], \"Total\": [14.0, 19.0, 15.0, 4.0, 13.0, 11.0, 4.0, 6.0, 6.0, 6.0, 6.0, 3.0, 5.0, 4.0, 12.0, 4.0, 4.0, 6.0, 12.0, 5.0, 5.0, 15.0, 4.0, 4.0, 1.0, 3.0, 8.0, 6.0, 4.0, 2.0, 2.0998877222246817, 2.0998962384867217, 3.548774490357647, 2.6409520126658843, 1.387841542339671, 1.3878421710490645, 1.3878379948301547, 1.3878302673685157, 1.3878322812693469, 1.3878282308752425, 1.387825910496574, 1.3878260386749128, 1.387821334678686, 1.3878278753591946, 1.3878239109456023, 1.3878180943772498, 1.3878198357025298, 1.3878195720523028, 1.3878195713710555, 1.3878183238463293, 1.3878183366078394, 1.3878091916672022, 1.3878097473157291, 1.3878109653230053, 1.3878046990108426, 1.3878172993926916, 1.3878040447636337, 1.38782164018896, 1.3878088386821417, 1.3878060917530368, 1.3878198554591525, 5.573362533961964, 4.149634126480485, 4.2853572583351855, 4.108807623564469, 2.7224263002401243, 4.252325944529896, 4.872764009491506, 15.94746130686638, 3.469989311749455, 3.504736874439898, 4.43803940720991, 4.814408418512671, 6.151179658199832, 4.943625736876561, 7.7024375297827055, 5.516150176643749, 5.603550366379112, 5.671436017673349, 6.396937825439577, 19.208337929737365, 8.13995283493831, 8.336835684833185, 2.7393759513880047, 14.728998971098344, 15.85470118203207, 2.723119063894033, 3.3518197889727057, 2.131280258425306, 2.120070192842108, 3.55114876671649, 1.4035066912291627, 1.4035050782569318, 1.4035054869981045, 1.4034959387918555, 1.403498465909007, 1.403490852924349, 1.4034950889216982, 1.4034937517908883, 1.4035110104231163, 1.4034894630566905, 1.403494754763299, 1.40349669611418, 1.4034763101658607, 1.4034803025415186, 1.4034736292559413, 1.4034756405171973, 1.4034656548322015, 1.4034652814901118, 1.4034789670213141, 1.4034799209523738, 1.4034839431595723, 1.4034702566411037, 1.4034794629743512, 1.4034400815163355, 1.4017463899101126, 1.4017147874197429, 1.4015349518581706, 2.836621485540748, 4.163672360794831, 14.728998971098344, 8.905292566154163, 6.204473258411641, 15.85470118203207, 2.7428781720747057, 4.170431864333019, 4.148151379758575, 3.551818539030499, 6.6847193999570225, 4.998371298130644, 3.5423171797486104, 3.469989311749455, 2.1049914992611787, 3.5019300717539457, 2.107112694093975, 7.7024375297827055, 8.336835684833185, 3.4687749862270767, 19.208337929737365, 3.4712677671391257, 3.4311273854031614, 12.268905894360476, 8.13995283493831, 4.829089552010667, 2.7978100198022204, 2.857725608860875, 2.1303332646788444, 1.4030465124426204, 1.4030428762375557, 1.4030411997532277, 1.4030340041339648, 1.4030334185057303, 1.403030224696163, 1.4030300409046235, 1.403029701975239, 1.4030258033064722, 1.4030458305803692, 1.4030264961418415, 1.4030206450105813, 1.4030194160967329, 1.4030202607903925, 1.40302850082936, 1.4030224199463728, 1.4030182286381285, 1.4030152383195735, 1.4030148603470571, 1.4030160168146617, 1.4030129915627163, 1.4030208015856416, 1.4030200100800956, 1.4030206615528726, 1.4030238968933146, 1.4030068894748775, 1.4030137596468186, 1.40299842711684, 2.8184692657156383, 4.126818261814722, 5.603550366379112, 6.873874511984117, 12.268905894360476, 3.5478452721881606, 4.697712815220385, 5.671436017673349, 6.126163464192066, 6.607546842589094, 6.795918882296599, 6.151179658199832, 2.7601032373208745, 15.94746130686638, 7.7024375297827055, 3.4058817563907757, 3.9529187427586145, 2.1083444347919755, 2.065182893276667, 11.713148404498925, 2.130802618031576, 2.115139705341606, 1.3810479862370815, 1.3810452407569156, 1.3810394580881213, 1.3810408441168636, 1.3810335054811125, 1.3810457362569974, 1.3810396696761946, 1.3810275415382467, 1.3810375138943232, 1.3810389757372814, 1.3810222919173971, 1.3810248545540895, 1.381033836995636, 1.3810274016195667, 1.3810160470781818, 1.3810272485873465, 1.3810153497096658, 1.3810209082770377, 1.3810341633194876, 1.3810278992852354, 1.381023667227468, 1.3810200846780694, 1.3810099240782407, 1.3810193350267665, 1.381014166869462, 1.3810095702251273, 1.3810153235371443, 1.3810126109225396, 1.3810103853761408, 1.3810176468834792, 2.7148615489606214, 14.728998971098344, 4.943625736876561, 4.039445166860222, 5.671436017673349, 3.4426039274864824, 2.7978100198022204, 15.85470118203207, 4.074820508335937, 4.136907276782479, 4.170431864333019, 3.339736309917006, 4.5204301849288635, 4.724407761540512, 3.483647516496194, 19.208337929737365, 5.516150176643749, 7.7024375297827055, 6.6847193999570225, 4.829089552010667, 8.336835684833185, 8.13995283493831, 12.268905894360476, 12.712788068341613, 13.221309291595121, 3.5423171797486104, 6.126163464192066, 2.7373889008158274, 2.561294292048857, 1.932770528719886, 1.3042751830396462, 1.3042669184694093, 1.3042614334582445, 1.304260278677016, 1.3042628857107472, 1.304256361175065, 1.304258184816069, 1.304253880391714, 1.3042581463580816, 1.3042563537267053, 1.3042622344505626, 1.3042549262398493, 1.3042497407588816, 1.3042540594436776, 1.3042535065812841, 1.3042505287694375, 1.3042585433412954, 1.3042524792558114, 1.3042486953599746, 1.30424979261098, 1.304250761676114, 1.3042493518110987, 1.304254976510769, 1.3042486498398198, 1.304246293952767, 1.3042442553295963, 1.304248278053143, 1.3042422737611805, 2.556875970502668, 2.6605928556997784, 2.669486498035994, 6.607546842589094, 8.13995283493831, 8.905292566154163, 3.3239650401682526, 12.712788068341613, 13.221309291595121, 1.9413806705778929, 15.94746130686638, 6.126163464192066, 6.396937825439577, 3.9529187427586145, 11.713148404498925, 2.654253400662595, 12.268905894360476, 14.728998971098344, 2.6842616225922726, 19.208337929737365, 2.0170029575447734, 4.77359388488453, 3.3518197889727057, 15.85470118203207, 3.349984903102953, 3.3860455286754134, 2.0085825051951813, 2.0091021212187297, 5.283410455795308, 4.126818261814722, 5.478478573572499, 4.653000023624946, 3.8282092365707516, 1.9813581690683775, 2.009560771408372, 1.3285712802695706, 1.3285647935936655, 1.328571565739658, 1.3285590284490656, 1.3285689461123347, 1.328554400756709, 1.3285521100391062, 1.3285483825358015, 1.3285599274640032, 1.3285465914796382, 1.3285453351436576, 1.3285557480009567, 1.3285612704750676, 1.328541794560476, 1.328548797674657, 1.328547096096792, 1.3285468837202403, 1.3285441535963152, 1.3285454475068676, 1.3285224870688737, 1.32853353696949, 1.3285290188906576, 1.3285391787269336, 1.3285185560737982, 1.3285375137965407, 1.3285322558533494, 3.3782350202326925, 2.6767805654034635, 3.2497811820397775, 6.607546842589094, 3.4350414775902074, 15.85470118203207, 12.268905894360476, 8.336835684833185, 6.126163464192066, 6.795918882296599, 5.573362533961964, 2.0424489799301244, 3.4687749862270767, 3.463132924753911, 3.44337121955924, 3.454955390418639, 5.478478573572499, 2.774805711728775, 13.221309291595121, 19.208337929737365, 12.712788068341613, 2.065279045510528, 2.0523666787353467, 4.318888333030076, 1.4124414484544796, 1.412446246888839, 1.4124373246955644, 1.4124420249142167, 1.4124430047897196, 1.412432430824056, 1.4124335645211763, 1.4124312641997796, 1.41243339402066, 1.41243222755354, 1.4124313340147407, 1.4124287591678624, 1.4124269870486095, 1.4124254649614403, 1.4124233116834282, 1.412423704149617, 1.4124213465167303, 1.4124147640177618, 1.4124195836962992, 1.4124160054255677, 1.4124227914708405, 1.4124148318741763, 1.4124169721916522, 1.4124156248761945, 1.4124173497646904, 1.4124141201885938, 1.4124135626226089, 1.4124062457927076, 1.4124208302423393, 6.383627968035511, 2.8011613079433375, 2.801363197666471, 2.8612441972741216, 2.8612447343406906, 2.876470598296616, 2.090952916290022, 11.713148404498925, 2.084853583141727, 19.208337929737365, 4.998371298130644, 3.5718535386713546, 12.712788068341613, 4.130051962486105, 4.2853572583351855, 4.741907332621679, 6.123290921191059, 4.969100318512575, 13.221309291595121, 15.85470118203207, 2.7704581197598093, 2.139752381466367, 2.5820213731931174, 8.905292566154163, 2.0696524803182825, 2.06961632470094, 2.059515062039998, 1.372712889974988, 1.3727054665792773, 1.3727086688933783, 1.3726992400052267, 1.3727001214313106, 1.3726815472692901, 1.3726801525477843, 1.372674041331853, 1.3726740288359418, 1.3726855282527108, 1.3726720660526572, 1.3726707817096417, 1.3726819501702405, 1.3726660727211581, 1.3726651792954419, 1.3726684780432878, 1.372647286757397, 1.3726456662687443, 1.3656144853405063, 1.3646144930461475, 1.3636376266471135, 1.3634089513165173, 1.3628965182584365, 1.3610906691857574, 2.806323987956103, 1.3579519252294772, 1.3778055301951493, 4.616440970211341, 3.4870251731473654, 3.26922954759574, 6.795918882296599, 3.5103624043287533, 6.873874511984117, 4.872764009491506, 5.478478573572499, 8.336835684833185, 6.123290921191059, 11.713148404498925, 12.268905894360476, 15.94746130686638, 8.13995283493831, 4.741907332621679, 4.697712815220385, 3.45861370058372, 8.905292566154163, 5.603550366379112, 2.6205432599216687, 2.0847892712420415, 1.7578042225281316, 1.216796754055045, 1.2167814124679224, 1.216778239395643, 1.2167774585533968, 1.21678330351976, 1.2167830054676991, 1.2167847666969371, 1.216769869715088, 1.2167696747290377, 1.216782392529191, 1.216775057029693, 1.2167734882635703, 1.2167580391958326, 1.2167681394116785, 1.2167662206505994, 1.216772194276991, 1.2167499158779223, 3.108540597171974, 3.160109123430896, 1.8412406963949302, 1.844331585814188, 1.845324520712135, 1.944070759790988, 1.9440560730650094, 1.9440391375793886, 1.9440806923035778, 1.9445728575577408, 1.944575813677554, 1.9445313276893226, 6.396937825439577, 4.5204301849288635, 4.43803940720991, 19.208337929737365, 15.94746130686638, 12.712788068341613, 13.221309291595121, 6.6847193999570225, 3.9532379807054445, 6.123290921191059, 11.713148404498925, 3.374502603749068, 6.151179658199832, 4.023110668404259, 4.616440970211341, 6.873874511984117, 3.2497811820397775, 4.130051962486105, 2.6587850266772457, 1.9308865613834567, 1.3033143072211244, 1.3033099442031113, 1.3032868533554258, 1.3032833143839053, 1.3032487465151477, 1.3003284008333198, 1.300056363745978, 1.2999734383994452, 1.2996159837573051, 1.2996141591740558, 1.2988851772681111, 1.2970326183001761, 1.2959379492445913, 1.2951337994191316, 1.294043027101961, 1.2932378130962676, 1.2903918342774745, 1.844331585814188, 1.8412406963949302, 1.3136271544338805, 1.3203234117473932, 1.9877450281887477, 1.3177833210183574, 1.3145959349472716, 1.3164368159272324, 1.3185067012163352, 5.283410455795308, 1.31867193620779, 4.039445166860222, 2.6676359564946535, 2.556875970502668, 2.7393759513880047, 13.221309291595121, 15.94746130686638, 2.6205432599216687, 3.339736309917006, 11.713148404498925, 4.43803940720991, 4.5204301849288635, 5.603550366379112, 15.85470118203207, 12.712788068341613], \"Category\": [\"Default\", \"Default\", \"Default\", \"Default\", \"Default\", \"Default\", \"Default\", \"Default\", \"Default\", \"Default\", \"Default\", \"Default\", \"Default\", \"Default\", \"Default\", \"Default\", \"Default\", \"Default\", \"Default\", \"Default\", \"Default\", \"Default\", \"Default\", \"Default\", \"Default\", \"Default\", \"Default\", \"Default\", \"Default\", \"Default\", \"Topic1\", \"Topic1\", \"Topic1\", \"Topic1\", \"Topic1\", \"Topic1\", \"Topic1\", \"Topic1\", \"Topic1\", \"Topic1\", \"Topic1\", \"Topic1\", \"Topic1\", \"Topic1\", \"Topic1\", \"Topic1\", \"Topic1\", \"Topic1\", \"Topic1\", \"Topic1\", \"Topic1\", \"Topic1\", \"Topic1\", \"Topic1\", \"Topic1\", \"Topic1\", \"Topic1\", \"Topic1\", \"Topic1\", \"Topic1\", \"Topic1\", \"Topic1\", \"Topic1\", \"Topic1\", \"Topic1\", \"Topic1\", \"Topic1\", \"Topic1\", \"Topic1\", \"Topic1\", \"Topic1\", \"Topic1\", \"Topic1\", \"Topic1\", \"Topic1\", \"Topic1\", \"Topic1\", \"Topic1\", \"Topic1\", \"Topic1\", \"Topic1\", \"Topic1\", \"Topic1\", \"Topic1\", \"Topic1\", \"Topic1\", \"Topic1\", \"Topic1\", \"Topic2\", \"Topic2\", \"Topic2\", \"Topic2\", \"Topic2\", \"Topic2\", \"Topic2\", \"Topic2\", \"Topic2\", \"Topic2\", \"Topic2\", \"Topic2\", \"Topic2\", \"Topic2\", \"Topic2\", \"Topic2\", \"Topic2\", \"Topic2\", \"Topic2\", \"Topic2\", \"Topic2\", \"Topic2\", \"Topic2\", \"Topic2\", \"Topic2\", \"Topic2\", \"Topic2\", \"Topic2\", \"Topic2\", \"Topic2\", \"Topic2\", \"Topic2\", \"Topic2\", \"Topic2\", \"Topic2\", \"Topic2\", \"Topic2\", \"Topic2\", \"Topic2\", \"Topic2\", \"Topic2\", \"Topic2\", \"Topic2\", \"Topic2\", \"Topic2\", \"Topic2\", \"Topic2\", \"Topic2\", \"Topic2\", \"Topic2\", \"Topic2\", \"Topic2\", \"Topic2\", \"Topic2\", \"Topic2\", \"Topic2\", \"Topic2\", \"Topic3\", \"Topic3\", \"Topic3\", \"Topic3\", \"Topic3\", \"Topic3\", \"Topic3\", \"Topic3\", \"Topic3\", \"Topic3\", \"Topic3\", \"Topic3\", \"Topic3\", \"Topic3\", \"Topic3\", \"Topic3\", \"Topic3\", \"Topic3\", \"Topic3\", \"Topic3\", \"Topic3\", \"Topic3\", \"Topic3\", \"Topic3\", \"Topic3\", \"Topic3\", \"Topic3\", \"Topic3\", \"Topic3\", \"Topic3\", \"Topic3\", \"Topic3\", \"Topic3\", \"Topic3\", \"Topic3\", \"Topic3\", \"Topic3\", \"Topic3\", \"Topic3\", \"Topic3\", \"Topic3\", \"Topic3\", \"Topic3\", \"Topic3\", \"Topic3\", \"Topic3\", \"Topic3\", \"Topic3\", \"Topic3\", \"Topic3\", \"Topic3\", \"Topic3\", \"Topic4\", \"Topic4\", \"Topic4\", \"Topic4\", \"Topic4\", \"Topic4\", \"Topic4\", \"Topic4\", \"Topic4\", \"Topic4\", \"Topic4\", \"Topic4\", \"Topic4\", \"Topic4\", \"Topic4\", \"Topic4\", \"Topic4\", \"Topic4\", \"Topic4\", \"Topic4\", \"Topic4\", \"Topic4\", \"Topic4\", \"Topic4\", \"Topic4\", \"Topic4\", \"Topic4\", \"Topic4\", \"Topic4\", \"Topic4\", \"Topic4\", \"Topic4\", \"Topic4\", \"Topic4\", \"Topic4\", \"Topic4\", \"Topic4\", \"Topic4\", \"Topic4\", \"Topic4\", \"Topic4\", \"Topic4\", \"Topic4\", \"Topic4\", \"Topic4\", \"Topic4\", \"Topic4\", \"Topic4\", \"Topic4\", \"Topic4\", \"Topic4\", \"Topic4\", \"Topic4\", \"Topic4\", \"Topic4\", \"Topic4\", \"Topic4\", \"Topic4\", \"Topic5\", \"Topic5\", \"Topic5\", \"Topic5\", \"Topic5\", \"Topic5\", \"Topic5\", \"Topic5\", \"Topic5\", \"Topic5\", \"Topic5\", \"Topic5\", \"Topic5\", \"Topic5\", \"Topic5\", \"Topic5\", \"Topic5\", \"Topic5\", \"Topic5\", \"Topic5\", \"Topic5\", \"Topic5\", \"Topic5\", \"Topic5\", \"Topic5\", \"Topic5\", \"Topic5\", \"Topic5\", \"Topic5\", \"Topic5\", \"Topic5\", \"Topic5\", \"Topic5\", \"Topic5\", \"Topic5\", \"Topic5\", \"Topic5\", \"Topic5\", \"Topic5\", \"Topic5\", \"Topic5\", \"Topic5\", \"Topic5\", \"Topic5\", \"Topic5\", \"Topic5\", \"Topic5\", \"Topic5\", \"Topic5\", \"Topic5\", \"Topic5\", \"Topic5\", \"Topic5\", \"Topic5\", \"Topic5\", \"Topic5\", \"Topic5\", \"Topic5\", \"Topic5\", \"Topic5\", \"Topic5\", \"Topic6\", \"Topic6\", \"Topic6\", \"Topic6\", \"Topic6\", \"Topic6\", \"Topic6\", \"Topic6\", \"Topic6\", \"Topic6\", \"Topic6\", \"Topic6\", \"Topic6\", \"Topic6\", \"Topic6\", \"Topic6\", \"Topic6\", \"Topic6\", \"Topic6\", \"Topic6\", \"Topic6\", \"Topic6\", \"Topic6\", \"Topic6\", \"Topic6\", \"Topic6\", \"Topic6\", \"Topic6\", \"Topic6\", \"Topic6\", \"Topic6\", \"Topic6\", \"Topic6\", \"Topic6\", \"Topic6\", \"Topic6\", \"Topic6\", \"Topic6\", \"Topic6\", \"Topic6\", \"Topic6\", \"Topic6\", \"Topic6\", \"Topic6\", \"Topic6\", \"Topic6\", \"Topic6\", \"Topic6\", \"Topic6\", \"Topic6\", \"Topic6\", \"Topic6\", \"Topic6\", \"Topic7\", \"Topic7\", \"Topic7\", \"Topic7\", \"Topic7\", \"Topic7\", \"Topic7\", \"Topic7\", \"Topic7\", \"Topic7\", \"Topic7\", \"Topic7\", \"Topic7\", \"Topic7\", \"Topic7\", \"Topic7\", \"Topic7\", \"Topic7\", \"Topic7\", \"Topic7\", \"Topic7\", \"Topic7\", \"Topic7\", \"Topic7\", \"Topic7\", \"Topic7\", \"Topic7\", \"Topic7\", \"Topic7\", \"Topic7\", \"Topic7\", \"Topic7\", \"Topic7\", \"Topic7\", \"Topic7\", \"Topic7\", \"Topic7\", \"Topic7\", \"Topic7\", \"Topic7\", \"Topic7\", \"Topic7\", \"Topic7\", \"Topic7\", \"Topic7\", \"Topic7\", \"Topic7\", \"Topic7\", \"Topic7\", \"Topic7\", \"Topic7\", \"Topic7\", \"Topic7\", \"Topic7\", \"Topic8\", \"Topic8\", \"Topic8\", \"Topic8\", \"Topic8\", \"Topic8\", \"Topic8\", \"Topic8\", \"Topic8\", \"Topic8\", \"Topic8\", \"Topic8\", \"Topic8\", \"Topic8\", \"Topic8\", \"Topic8\", \"Topic8\", \"Topic8\", \"Topic8\", \"Topic8\", \"Topic8\", \"Topic8\", \"Topic8\", \"Topic8\", \"Topic8\", \"Topic8\", \"Topic8\", \"Topic8\", \"Topic8\", \"Topic8\", \"Topic8\", \"Topic8\", \"Topic8\", \"Topic8\", \"Topic8\", \"Topic8\", \"Topic8\", \"Topic8\", \"Topic8\", \"Topic8\", \"Topic8\", \"Topic8\", \"Topic8\", \"Topic8\", \"Topic8\", \"Topic8\", \"Topic8\", \"Topic8\", \"Topic8\", \"Topic8\", \"Topic8\", \"Topic9\", \"Topic9\", \"Topic9\", \"Topic9\", \"Topic9\", \"Topic9\", \"Topic9\", \"Topic9\", \"Topic9\", \"Topic9\", \"Topic9\", \"Topic9\", \"Topic9\", \"Topic9\", \"Topic9\", \"Topic9\", \"Topic9\", \"Topic9\", \"Topic9\", \"Topic9\", \"Topic9\", \"Topic9\", \"Topic9\", \"Topic9\", \"Topic9\", \"Topic9\", \"Topic9\", \"Topic9\", \"Topic9\", \"Topic9\", \"Topic9\", \"Topic9\", \"Topic9\", \"Topic9\", \"Topic9\", \"Topic9\", \"Topic9\", \"Topic9\", \"Topic9\", \"Topic9\", \"Topic9\", \"Topic9\", \"Topic9\", \"Topic9\", \"Topic9\", \"Topic9\", \"Topic9\", \"Topic9\", \"Topic9\", \"Topic10\", \"Topic10\", \"Topic10\", \"Topic10\", \"Topic10\", \"Topic10\", \"Topic10\", \"Topic10\", \"Topic10\", \"Topic10\", \"Topic10\", \"Topic10\", \"Topic10\", \"Topic10\", \"Topic10\", \"Topic10\", \"Topic10\", \"Topic10\", \"Topic10\", \"Topic10\", \"Topic10\", \"Topic10\", \"Topic10\", \"Topic10\", \"Topic10\", \"Topic10\", \"Topic10\", \"Topic10\", \"Topic10\", \"Topic10\", \"Topic10\", \"Topic10\", \"Topic10\", \"Topic10\", \"Topic10\", \"Topic10\", \"Topic10\", \"Topic10\", \"Topic10\", \"Topic10\", \"Topic10\", \"Topic10\", \"Topic10\"], \"logprob\": [30.0, 29.0, 28.0, 27.0, 26.0, 25.0, 24.0, 23.0, 22.0, 21.0, 20.0, 19.0, 18.0, 17.0, 16.0, 15.0, 14.0, 13.0, 12.0, 11.0, 10.0, 9.0, 8.0, 7.0, 6.0, 5.0, 4.0, 3.0, 2.0, 1.0, -4.8503, -4.8503, -4.4608, -4.8503, -5.4969, -5.4969, -5.4969, -5.4969, -5.4969, -5.4969, -5.4969, -5.4969, -5.4969, -5.4969, -5.4969, -5.4969, -5.4969, -5.4969, -5.4969, -5.4969, -5.4969, -5.4969, -5.4969, -5.4969, -5.4969, -5.4969, -5.4969, -5.4969, -5.4969, -5.4969, -5.4969, -4.1813, -4.4822, -4.4609, -4.501, -4.9, -4.5269, -4.4795, -3.6761, -4.8503, -4.9477, -4.8504, -4.8503, -4.7378, -4.8503, -4.6312, -4.8503, -4.8504, -4.8796, -4.8898, -4.5054, -4.8503, -4.8503, -5.2991, -4.8503, -4.8503, -5.3413, -5.2963, -4.714, -4.7877, -4.3829, -5.3605, -5.3605, -5.3605, -5.3606, -5.3606, -5.3606, -5.3606, -5.3606, -5.3606, -5.3606, -5.3606, -5.3606, -5.3606, -5.3606, -5.3606, -5.3606, -5.3606, -5.3606, -5.3606, -5.3606, -5.3606, -5.3606, -5.3606, -5.3607, -5.3691, -5.3693, -5.3702, -4.7139, -4.5031, -3.8004, -4.2079, -4.4336, -3.853, -4.9485, -4.7139, -4.737, -4.8334, -4.5424, -4.7171, -4.9257, -4.9599, -5.1969, -4.9933, -5.1991, -4.714, -4.714, -5.0405, -4.4646, -5.0621, -5.0703, -4.7208, -4.9848, -5.1817, -5.3303, -4.2381, -4.6276, -5.2742, -5.2742, -5.2742, -5.2742, -5.2742, -5.2742, -5.2742, -5.2742, -5.2742, -5.2742, -5.2742, -5.2742, -5.2742, -5.2742, -5.2742, -5.2742, -5.2742, -5.2742, -5.2742, -5.2742, -5.2743, -5.2742, -5.2743, -5.2743, -5.2743, -5.2743, -5.2743, -5.2743, -4.6276, -4.2789, -4.2382, -4.2382, -3.9198, -4.7088, -4.6865, -4.5991, -4.6276, -4.6276, -4.6276, -4.7544, -5.0422, -4.5554, -4.9086, -5.2742, -5.2742, -5.2742, -5.2742, -5.2742, -5.2742, -5.2742, -5.282, -5.282, -5.282, -5.282, -5.282, -5.282, -5.282, -5.282, -5.282, -5.282, -5.2821, -5.2821, -5.2821, -5.2821, -5.2821, -5.2821, -5.2821, -5.2821, -5.2821, -5.2821, -5.2821, -5.2821, -5.2821, -5.2821, -5.2821, -5.2821, -5.2821, -5.2821, -5.2821, -5.2821, -4.6354, -3.17, -4.2459, -4.4625, -4.246, -4.6354, -4.8021, -3.7174, -4.6354, -4.6354, -4.6354, -4.7867, -4.6355, -4.6354, -4.8083, -3.9664, -4.6354, -4.5629, -4.6354, -4.7825, -4.5965, -4.6354, -4.5859, -4.6354, -4.6355, -5.0869, -5.282, -5.282, -4.3566, -4.7461, -5.3927, -5.3927, -5.3927, -5.3927, -5.3927, -5.3927, -5.3927, -5.3927, -5.3927, -5.3927, -5.3927, -5.3927, -5.3927, -5.3927, -5.3927, -5.3927, -5.3927, -5.3927, -5.3927, -5.3927, -5.3927, -5.3927, -5.3927, -5.3927, -5.3927, -5.3927, -5.3927, -5.3927, -4.7461, -4.746, -4.746, -4.077, -4.077, -4.0421, -4.7461, -3.8971, -3.8786, -5.1804, -4.1683, -4.7461, -4.7461, -4.9745, -4.6056, -5.1458, -4.7098, -4.6594, -5.1723, -4.598, -5.2669, -5.0877, -5.1717, -4.8151, -5.177, -5.2036, -5.3292, -5.3308, -5.2329, -5.2859, -5.2691, -3.7769, -3.9951, -4.6642, -4.8627, -5.3108, -5.3108, -5.3108, -5.3108, -5.3108, -5.3108, -5.3108, -5.3108, -5.3108, -5.3108, -5.3108, -5.3108, -5.3108, -5.3108, -5.3108, -5.3108, -5.3108, -5.3108, -5.3108, -5.3108, -5.3108, -5.3108, -5.3108, -5.3109, -5.3108, -5.3108, -4.4222, -4.6949, -4.6642, -4.3028, -4.7563, -3.8961, -4.0835, -4.3664, -4.6642, -4.6642, -4.7876, -5.1552, -4.9693, -5.0061, -5.075, -5.1069, -5.107, -5.2322, -5.2217, -5.2124, -5.2251, -5.3108, -5.3108, -3.7157, -5.1734, -5.1734, -5.1734, -5.1734, -5.1734, -5.1734, -5.1734, -5.1734, -5.1734, -5.1734, -5.1734, -5.1735, -5.1735, -5.1735, -5.1735, -5.1735, -5.1735, -5.1735, -5.1735, -5.1735, -5.1735, -5.1735, -5.1735, -5.1735, -5.1735, -5.1735, -5.1735, -5.1735, -5.1735, -3.6961, -4.5268, -4.5268, -4.5268, -4.5268, -4.5268, -4.8226, -3.4605, -4.8592, -3.0956, -4.2888, -4.5269, -3.7697, -4.5269, -4.5269, -4.5268, -4.4164, -4.5269, -4.0287, -4.8512, -5.1734, -5.1734, -5.1734, -5.1734, -4.406, -4.406, -4.4374, -5.0526, -5.0526, -5.0526, -5.0526, -5.0526, -5.0526, -5.0526, -5.0527, -5.0527, -5.0526, -5.0527, -5.0527, -5.0526, -5.0527, -5.0527, -5.0527, -5.0527, -5.0527, -5.0948, -5.1009, -5.1068, -5.1083, -5.1115, -5.1226, -4.406, -5.1423, -5.1769, -4.1416, -4.406, -4.4768, -3.9479, -4.4944, -4.1884, -4.4269, -4.406, -4.406, -4.5301, -4.406, -4.406, -4.4743, -5.0526, -5.0526, -5.0526, -5.0526, -5.0526, -5.0526, -5.0526, -5.0526, -4.275, -4.9216, -4.9216, -4.9216, -4.9216, -4.9216, -4.9216, -4.9216, -4.9216, -4.9216, -4.9216, -4.9216, -4.9216, -4.9216, -4.9216, -4.9216, -4.9216, -4.9216, -4.275, -4.275, -4.8893, -4.9216, -4.9216, -4.9216, -4.9216, -4.9216, -4.9216, -4.9216, -4.9216, -4.9216, -3.8608, -4.2595, -4.275, -3.7351, -3.8417, -4.2342, -4.2351, -4.4822, -4.6723, -4.653, -4.8322, -4.9088, -4.9109, -4.9215, -4.9216, -4.9216, -4.9216, -4.9216, -4.9216, -4.0757, -4.7223, -4.7223, -4.7223, -4.7223, -4.7224, -4.7541, -4.757, -4.7577, -4.7616, -4.7618, -4.7695, -4.7905, -4.8028, -4.8117, -4.8245, -4.8341, -4.8676, -4.7224, -4.7556, -5.1549, -5.1593, -4.7607, -5.1774, -5.2049, -5.2081, -5.2083, -3.8417, -5.2373, -4.1243, -4.7223, -4.759, -4.7223, -3.7048, -3.6677, -4.8132, -4.7468, -4.3829, -4.7223, -4.7526, -4.7517, -4.7223, -4.783], \"loglift\": [30.0, 29.0, 28.0, 27.0, 26.0, 25.0, 24.0, 23.0, 22.0, 21.0, 20.0, 19.0, 18.0, 17.0, 16.0, 15.0, 14.0, 13.0, 12.0, 11.0, 10.0, 9.0, 8.0, 7.0, 6.0, 5.0, 4.0, 3.0, 2.0, 1.0, 1.6448, 1.6448, 1.5096, 1.4156, 1.4124, 1.4124, 1.4124, 1.4124, 1.4124, 1.4124, 1.4124, 1.4124, 1.4124, 1.4124, 1.4124, 1.4124, 1.4124, 1.4124, 1.4124, 1.4124, 1.4124, 1.4124, 1.4124, 1.4124, 1.4124, 1.4124, 1.4124, 1.4124, 1.4124, 1.4124, 1.4124, 1.3378, 1.3318, 1.321, 1.3229, 1.3355, 1.2627, 1.1739, 0.7917, 1.1426, 1.0352, 0.8965, 0.8152, 0.6826, 0.7886, 0.5643, 0.6791, 0.6633, 0.622, 0.4914, -0.2237, 0.29, 0.2661, 0.9303, -0.3031, -0.3767, 0.894, 0.7312, 1.7664, 1.6979, 1.5869, 1.5375, 1.5375, 1.5375, 1.5375, 1.5375, 1.5375, 1.5375, 1.5375, 1.5375, 1.5375, 1.5375, 1.5375, 1.5375, 1.5375, 1.5375, 1.5375, 1.5375, 1.5375, 1.5375, 1.5375, 1.5375, 1.5375, 1.5375, 1.5375, 1.5302, 1.5301, 1.5293, 1.4805, 1.3076, 0.7468, 0.8425, 0.9781, 0.6206, 1.2796, 1.0951, 1.0774, 1.1362, 0.7948, 0.9108, 1.0466, 1.033, 1.2959, 0.9905, 1.2927, 0.4815, 0.4024, 0.9528, -0.1828, 0.9305, 0.9339, 0.0091, 0.1554, 0.4807, 0.8779, 1.9489, 1.8532, 1.6242, 1.6242, 1.6242, 1.6242, 1.6242, 1.6242, 1.6242, 1.6242, 1.6242, 1.6242, 1.6242, 1.6242, 1.6242, 1.6242, 1.6242, 1.6242, 1.6242, 1.6242, 1.6242, 1.6242, 1.6242, 1.6242, 1.6242, 1.6242, 1.6242, 1.6242, 1.6242, 1.6242, 1.5732, 1.5406, 1.2755, 1.0712, 0.8102, 1.2619, 1.0035, 0.9025, 0.7969, 0.7212, 0.6931, 0.666, 1.1796, -0.0877, 0.2869, 0.7374, 0.5884, 1.217, 1.2376, -0.4979, 1.2063, 1.2137, 1.6322, 1.6322, 1.6322, 1.6322, 1.6322, 1.6322, 1.6322, 1.6322, 1.6322, 1.6322, 1.6322, 1.6322, 1.6322, 1.6322, 1.6322, 1.6322, 1.6322, 1.6322, 1.6322, 1.6322, 1.6322, 1.6322, 1.6322, 1.6322, 1.6322, 1.6322, 1.6322, 1.6322, 1.6322, 1.6322, 1.6029, 1.3772, 1.393, 1.3785, 1.2556, 1.3654, 1.4062, 0.7562, 1.1968, 1.1817, 1.1736, 1.2445, 1.093, 1.0489, 1.1806, 0.3153, 0.894, 0.6326, 0.7018, 0.8799, 0.5198, 0.5048, 0.1441, 0.059, 0.0198, 0.8854, 0.1425, 0.948, 1.9399, 1.832, 1.5788, 1.5788, 1.5787, 1.5787, 1.5787, 1.5787, 1.5787, 1.5787, 1.5787, 1.5787, 1.5787, 1.5787, 1.5787, 1.5787, 1.5787, 1.5787, 1.5787, 1.5787, 1.5787, 1.5787, 1.5787, 1.5787, 1.5787, 1.5787, 1.5787, 1.5787, 1.5787, 1.5787, 1.5522, 1.5125, 1.5091, 1.2718, 1.0633, 1.0083, 1.2898, 0.7973, 0.7766, 1.3933, 0.2994, 0.6784, 0.6351, 0.8881, 0.1708, 1.115, 0.0202, -0.1122, 1.0774, -0.3163, 1.2686, 0.5863, 0.8558, -0.3415, 0.8511, 0.8138, 1.2104, 1.2085, 0.3395, 0.5336, 0.2671, 1.9227, 1.8996, 1.8891, 1.6764, 1.6422, 1.6422, 1.6422, 1.6422, 1.6422, 1.6422, 1.6422, 1.6422, 1.6422, 1.6422, 1.6422, 1.6422, 1.6422, 1.6422, 1.6422, 1.6422, 1.6422, 1.6422, 1.6422, 1.6421, 1.6421, 1.6421, 1.6421, 1.6421, 1.6421, 1.6421, 1.5975, 1.5575, 1.3943, 1.0461, 1.2467, 0.5774, 0.6465, 0.7499, 0.7603, 0.6565, 0.7315, 1.3677, 1.024, 0.9888, 0.9256, 0.8904, 0.4293, 0.9842, -0.5665, -0.9307, -0.5306, 1.201, 1.2073, 2.0584, 1.7183, 1.7183, 1.7183, 1.7183, 1.7183, 1.7183, 1.7183, 1.7183, 1.7183, 1.7183, 1.7183, 1.7183, 1.7183, 1.7183, 1.7183, 1.7183, 1.7183, 1.7183, 1.7183, 1.7183, 1.7183, 1.7183, 1.7183, 1.7183, 1.7183, 1.7183, 1.7183, 1.7183, 1.7183, 1.6873, 1.6802, 1.6801, 1.659, 1.659, 1.6537, 1.6769, 1.3158, 1.6431, 1.1862, 1.3391, 1.4371, 0.9248, 1.2919, 1.255, 1.1538, 1.0085, 1.107, 0.6265, -0.3776, 1.0446, 1.3029, 1.1151, -0.123, 2.1037, 2.1036, 2.0771, 1.8677, 1.8677, 1.8677, 1.8677, 1.8677, 1.8677, 1.8676, 1.8676, 1.8676, 1.8676, 1.8676, 1.8676, 1.8676, 1.8676, 1.8676, 1.8676, 1.8676, 1.8676, 1.8307, 1.8253, 1.8201, 1.8188, 1.816, 1.8062, 1.7992, 1.7888, 1.7396, 1.5658, 1.582, 1.5757, 1.3728, 1.487, 1.1209, 1.2265, 1.1302, 0.7104, 0.8949, 0.3704, 0.324, -0.0066, 0.0877, 0.628, 0.6374, 0.9436, -0.0022, 0.461, 1.2211, 1.4498, 2.398, 2.1193, 2.1193, 2.1193, 2.1193, 2.1193, 2.1193, 2.1193, 2.1193, 2.1193, 2.1193, 2.1193, 2.1193, 2.1192, 2.1192, 2.1192, 2.1192, 2.1192, 1.8279, 1.8115, 1.7373, 1.7034, 1.7028, 1.6507, 1.6507, 1.6507, 1.6507, 1.6504, 1.6504, 1.6504, 1.5204, 1.469, 1.4719, 0.5466, 0.626, 0.4602, 0.4202, 0.855, 1.1902, 0.772, -0.0559, 1.112, 0.5095, 0.9235, 0.7859, 0.3878, 1.1369, 0.8972, 1.3376, 2.5034, 2.2499, 2.2499, 2.2499, 2.2499, 2.2498, 2.2204, 2.2177, 2.217, 2.2134, 2.2132, 2.206, 2.1865, 2.1751, 2.1668, 2.1548, 2.1459, 2.1145, 1.9026, 1.871, 1.8094, 1.7999, 1.7893, 1.7837, 1.7586, 1.7541, 1.7523, 1.7308, 1.7231, 1.7167, 1.5336, 1.5393, 1.507, 0.9505, 0.8, 1.4604, 1.2844, 0.3934, 1.0245, 0.9759, 0.762, -0.2487, -0.0885]}, \"token.table\": {\"Topic\": [2, 9, 6, 3, 8, 4, 6, 7, 1, 2, 6, 7, 8, 9, 10, 8, 10, 5, 2, 4, 2, 4, 7, 2, 4, 5, 6, 8, 1, 1, 2, 6, 8, 9, 4, 7, 1, 2, 3, 6, 7, 7, 9, 4, 1, 5, 2, 7, 10, 3, 9, 2, 4, 5, 6, 8, 9, 1, 7, 1, 2, 3, 4, 5, 6, 7, 9, 10, 2, 10, 1, 5, 7, 1, 2, 7, 9, 5, 5, 6, 7, 4, 1, 5, 7, 8, 9, 7, 2, 9, 3, 4, 1, 2, 3, 4, 5, 6, 7, 9, 10, 5, 10, 8, 9, 1, 2, 5, 3, 4, 5, 6, 7, 8, 1, 5, 8, 7, 7, 1, 2, 4, 5, 6, 8, 8, 7, 6, 4, 5, 3, 7, 1, 2, 8, 3, 3, 7, 8, 5, 5, 4, 5, 1, 2, 3, 4, 5, 6, 2, 4, 5, 8, 4, 5, 1, 3, 6, 5, 3, 7, 6, 1, 3, 2, 6, 1, 7, 2, 5, 6, 2, 2, 2, 4, 5, 4, 3, 3, 2, 4, 2, 1, 1, 4, 8, 1, 10, 3, 10, 8, 4, 8, 1, 1, 3, 8, 2, 3, 5, 8, 9, 4, 8, 9, 1, 2, 6, 7, 1, 4, 3, 6, 9, 7, 5, 6, 1, 6, 10, 8, 1, 2, 5, 7, 8, 7, 6, 2, 4, 5, 6, 10, 3, 1, 7, 7, 10, 10, 8, 3, 3, 6, 9, 1, 10, 6, 8, 1, 2, 5, 5, 10, 4, 3, 8, 10, 6, 10, 1, 2, 3, 9, 8, 5, 6, 1, 2, 2, 3, 4, 5, 6, 3, 9, 2, 1, 4, 4, 5, 9, 1, 7, 6, 3, 1, 2, 4, 7, 4, 10, 5, 9, 9, 4, 4, 7, 5, 8, 6, 6, 6, 10, 3, 2, 3, 10, 5, 9, 2, 2, 4, 3, 3, 7, 9, 2, 5, 2, 6, 6, 7, 2, 4, 5, 7, 2, 5, 9, 1, 3, 2, 1, 2, 4, 5, 6, 5, 4, 8, 9, 1, 2, 4, 6, 8, 5, 8, 10, 8, 2, 1, 2, 4, 7, 9, 2, 7, 8, 5, 2, 6, 1, 5, 3, 9, 2, 4, 6, 8, 2, 3, 8, 10, 5, 7, 1, 9, 1, 7, 4, 6, 7, 8, 1, 5, 1, 1, 2, 4, 5, 6, 3, 7, 6, 1, 2, 4, 1, 6, 8, 5, 1, 2, 4, 3, 4, 7, 9, 2, 3, 9, 1, 3, 8, 7, 2, 3, 4, 2, 6, 1, 4, 6, 7, 9, 2, 1, 2, 6, 4, 5, 10, 9, 10, 6, 9, 1, 2, 7, 3, 9, 3, 7, 2, 4, 9, 2, 7, 2, 9, 8, 4, 3, 1, 4, 6, 1, 2, 3, 4, 5, 6, 1, 1, 7, 1, 8, 6, 8, 9, 3, 6, 7, 8, 9, 8, 3, 10, 3, 4, 9, 10, 9, 6, 1, 2, 4, 5, 1, 2, 4, 5, 6, 7, 8, 10, 1, 7, 8, 9, 4, 2, 3, 4, 9, 3, 9, 4, 1, 5, 9, 10, 5, 6, 4, 1, 6, 1, 7, 5, 1, 7, 1, 6, 8, 2, 4, 5, 8, 1, 5, 2, 3, 6, 1, 2, 10, 1, 4, 9, 5, 9, 5, 3, 3, 8, 8, 6, 6, 2, 8, 8, 3, 5, 1, 3, 2, 4, 5, 1, 5, 3, 7, 3, 10, 1, 2, 3, 5, 7, 8, 9, 10, 5, 7, 9, 7, 6, 8, 6, 7, 2, 3, 4, 2, 9, 3, 5, 6, 4, 6, 5, 2, 2, 5, 1, 8, 4, 2, 1, 1, 3, 6, 2, 4, 5, 1, 9, 1, 7, 1, 2, 3, 4, 5, 6, 7, 9, 10, 6, 4, 7, 8, 4, 1, 8, 10, 1, 3, 5, 3, 2, 3, 5, 1, 1, 4, 6, 2, 1, 3, 6, 8, 9, 2, 4, 5, 10, 8, 2, 6, 1, 3, 4, 2, 4, 9, 6, 6, 9, 10, 3, 5, 6, 8, 2, 4, 7, 4, 8, 4, 6, 7, 3, 3, 6, 4, 1, 1, 3, 8, 10, 6, 8, 9, 2, 3, 6, 3, 7, 2, 4, 1, 4, 8, 8, 3, 6, 5, 8, 10, 2, 3, 4, 5, 6, 8, 9, 1, 2, 4, 5, 8, 1, 2, 3, 5, 6, 7, 8, 9, 10, 1, 2, 3, 5, 6, 7, 8, 1, 7, 3, 8, 3, 4, 5, 9, 2, 6, 7, 9, 5, 5, 2, 3, 4, 5, 6, 8, 1, 2, 3, 4, 5, 9], \"Freq\": [0.7134118930433674, 0.821839637177368, 0.7527022434992461, 0.7127452664400951, 0.7284989747600081, 0.7240986743910379, 0.4841960713123898, 0.4841960713123898, 0.16331087529081292, 0.16331087529081292, 0.16331087529081292, 0.32662175058162585, 0.16331087529081292, 0.16331087529081292, 0.769036498287007, 0.728506800993108, 0.7698909938315384, 0.5173919951388749, 0.5631980329140833, 0.28159901645704166, 0.357422410000051, 0.357422410000051, 0.7079979017200757, 0.21166674226145224, 0.21166674226145224, 0.21166674226145224, 0.21166674226145224, 0.21166674226145224, 0.720555528171526, 0.2529571973356263, 0.2529571973356263, 0.2529571973356263, 0.2529571973356263, 0.2529571973356263, 0.7241077580723781, 0.707998571890483, 0.20124367307990573, 0.20124367307990573, 0.20124367307990573, 0.20124367307990573, 0.40248734615981147, 0.7080073258052013, 0.8218482271286798, 0.72410454760153, 0.3673194017820786, 0.3673194017820786, 0.7125018751210643, 0.7079990197877921, 0.7692464864753091, 0.5143929361654443, 0.5143929361654443, 0.2991898208940316, 0.1495949104470158, 0.1495949104470158, 0.1495949104470158, 0.1495949104470158, 0.1495949104470158, 0.7205628228085448, 0.7080072917905214, 0.10412145013878074, 0.10412145013878074, 0.05206072506939037, 0.15618217520817113, 0.10412145013878074, 0.05206072506939037, 0.31236435041634225, 0.10412145013878074, 0.05206072506939037, 0.7125069463323149, 0.7672746278157268, 0.7205514035136518, 0.3725419279489865, 0.3725419279489865, 0.24212770422337376, 0.24212770422337376, 0.4842554084467475, 0.24212770422337376, 0.7808552130103485, 0.7667204314794782, 0.3569690645015247, 0.7139381290030494, 0.7240953937983052, 0.15632479590831153, 0.15632479590831153, 0.15632479590831153, 0.15632479590831153, 0.31264959181662305, 0.7080042849753375, 0.5142509708113742, 0.5142509708113742, 0.7127449144758726, 0.7241055334478138, 0.075635474365289, 0.075635474365289, 0.075635474365289, 0.075635474365289, 0.22690642309586698, 0.075635474365289, 0.22690642309586698, 0.075635474365289, 0.151270948730578, 0.7667165959836834, 0.7749584067694657, 0.7322710843614529, 0.8218429696987325, 0.4762159373647707, 0.7125164797985236, 0.7667245520278666, 0.20948577196029933, 0.20948577196029933, 0.20948577196029933, 0.20948577196029933, 0.20948577196029933, 0.20948577196029933, 0.30084552271626236, 0.30084552271626236, 0.30084552271626236, 0.7080033018715594, 0.7079979871853503, 0.20770983952145317, 0.20770983952145317, 0.20770983952145317, 0.20770983952145317, 0.20770983952145317, 0.7285192704983221, 0.7334556510241428, 0.6946231920507283, 0.7526978190960241, 0.368342908824521, 0.368342908824521, 0.7127438960854172, 0.7080067035198282, 0.28555681567312075, 0.28555681567312075, 0.28555681567312075, 0.712743285899195, 0.2818612209047218, 0.2818612209047218, 0.2818612209047218, 0.7667249646935147, 0.766719148672904, 0.4978635417830777, 0.4978635417830777, 0.2596580617845559, 0.2596580617845559, 0.12982903089227796, 0.2596580617845559, 0.12982903089227796, 0.12982903089227796, 0.24107124076513345, 0.24107124076513345, 0.24107124076513345, 0.24107124076513345, 0.7241063492765524, 0.7667204358580726, 0.2936097232746281, 0.2936097232746281, 0.2936097232746281, 0.766724937933711, 0.7127548749060553, 0.7080028443745735, 0.7526991169134982, 0.47278200937488185, 0.47278200937488185, 0.7125348728244658, 0.7527020779272519, 0.7205546138184884, 0.479649989853518, 0.7133958091121785, 0.7667193594349753, 0.7526946879308872, 0.7135034332709213, 0.7125151309694072, 0.36531162952475216, 0.36531162952475216, 0.36531162952475216, 0.7240952199805948, 0.7127430203555006, 0.69985725494381, 0.7125168197657411, 0.7240985207913796, 0.7125195530636177, 0.7205502653374789, 0.7205546240761064, 0.7241019987507651, 0.7285008736918116, 0.7205492080066203, 0.7716418834581587, 0.7127517749398536, 0.7694591451939323, 0.7284844538891311, 0.7241028236441153, 0.7285018277156077, 0.720551470063124, 0.2853281247140166, 0.2853281247140166, 0.2853281247140166, 0.2128695472315897, 0.2128695472315897, 0.2128695472315897, 0.2128695472315897, 0.2128695472315897, 0.31644476850037095, 0.31644476850037095, 0.31644476850037095, 0.5382746917537007, 0.17942489725123353, 0.17942489725123353, 0.7079939498336154, 0.7205617599911445, 0.7241012732760529, 0.7127413978955882, 0.7526951972675093, 0.8218560862444845, 0.7079915446004941, 0.5150973300369417, 0.49762117883061796, 0.37486374314508314, 0.37486374314508314, 0.37486374314508314, 0.733332654114848, 0.4819702024419925, 0.24098510122099626, 0.24098510122099626, 0.35633804375107747, 0.35633804375107747, 0.708007928034316, 0.752693927049687, 0.18927168509179754, 0.18927168509179754, 0.18927168509179754, 0.18927168509179754, 0.3785433701835951, 0.712746985210844, 0.34949824039796007, 0.6989964807959201, 0.7080011987660956, 0.7727718314278336, 0.7673132260237912, 0.7284916978581502, 0.7127485111945548, 0.3077130255804897, 0.3077130255804897, 0.3077130255804897, 0.3672259554343577, 0.7672907905311963, 0.37358310685779833, 0.37358310685779833, 0.4762140060409101, 0.71250762514901, 0.7667237232162959, 0.39110227149712135, 0.39110227149712135, 0.7240932921366826, 0.7127491144364337, 0.5030826317353235, 0.5030826317353235, 0.7527181275926799, 0.5178968148618281, 0.470330832135001, 0.2351654160675005, 0.2351654160675005, 0.8218299372244728, 0.48555119524567913, 0.7667242928964537, 0.752703624710583, 0.7205536871898353, 0.7125071159732629, 0.16323429922252042, 0.32646859844504084, 0.16323429922252042, 0.16323429922252042, 0.16323429922252042, 0.7127374450414455, 0.8218465253425704, 0.7125098024049843, 0.7205504499188576, 0.7240925256770107, 0.49773477885404643, 0.49773477885404643, 0.8218402991312647, 0.7205481624086265, 0.7079931697129804, 0.7526882560618783, 0.7127478073524195, 0.287055448424296, 0.287055448424296, 0.287055448424296, 0.7080003104646168, 0.4951175018807246, 0.2475587509403623, 0.7667227135121769, 0.8218445917531634, 0.8218480954283939, 0.7240983332180037, 0.7241079436089524, 0.7080049098321067, 0.7667275480905142, 0.7284883934293325, 0.7527103655888844, 0.7527029552904708, 0.7527049612547807, 0.7709906334588164, 0.7127508255704681, 0.46930672580259675, 0.46930672580259675, 0.7672771963782065, 0.7667287129991538, 0.8218615731552933, 0.7125146466801033, 0.47458306468510175, 0.47458306468510175, 0.7127347462337935, 0.7127365933973676, 0.7079960168962111, 0.8218492641363141, 0.3758560795417095, 0.3758560795417095, 0.712521889336551, 0.7527096397439045, 0.7527028916297804, 0.7080060296389029, 0.47956664083273826, 0.23978332041636913, 0.23978332041636913, 0.7079984699987169, 0.7125010562822613, 0.7667218898360987, 0.8218392231864107, 0.7205598619941803, 0.7127591739749835, 0.7125220788776923, 0.20707837144656685, 0.20707837144656685, 0.20707837144656685, 0.20707837144656685, 0.20707837144656685, 0.7667212750217379, 0.7240878014128121, 0.7257918320725293, 0.5688915677775351, 0.1199495873259507, 0.2398991746519014, 0.2398991746519014, 0.2398991746519014, 0.1199495873259507, 0.38160026407268366, 0.38160026407268366, 0.38160026407268366, 0.7285201305580157, 0.7125178408447582, 0.1812858548039823, 0.1812858548039823, 0.1812858548039823, 0.1812858548039823, 0.1812858548039823, 0.27996668653216294, 0.5599333730643259, 0.27996668653216294, 0.7667212454694001, 0.4872423677313806, 0.4872423677313806, 0.29834539532523274, 0.29834539532523274, 0.5143884550734149, 0.5143884550734149, 0.28913318646463093, 0.28913318646463093, 0.28913318646463093, 0.28913318646463093, 0.28154591486336433, 0.28154591486336433, 0.28154591486336433, 0.7672928740538085, 0.37460388008544876, 0.37460388008544876, 0.37865133300569115, 0.37865133300569115, 0.7205538458100761, 0.7080040261825332, 0.15665073293858298, 0.15665073293858298, 0.6266029317543319, 0.15665073293858298, 0.7205603337629672, 0.7667169788299997, 0.7205554024053606, 0.16117403659436552, 0.32234807318873104, 0.16117403659436552, 0.16117403659436552, 0.16117403659436552, 0.4673437957875773, 0.4673437957875773, 0.7526970558101713, 0.20228068491119464, 0.20228068491119464, 0.40456136982238927, 0.29041306796076505, 0.29041306796076505, 0.29041306796076505, 0.7667093670136963, 0.2914493948123989, 0.2914493948123989, 0.2914493948123989, 0.938820246184114, 0.37611164120693374, 0.37611164120693374, 0.37611164120693374, 0.712505231954299, 0.5143845690614227, 0.5143845690614227, 0.2848708722401038, 0.2848708722401038, 0.2848708722401038, 0.7080062189059486, 0.7125144529560773, 0.47430580293142055, 0.47430580293142055, 0.2882862116944869, 0.2882862116944869, 0.2485638806442885, 0.2485638806442885, 0.2485638806442885, 0.2485638806442885, 0.2485638806442885, 0.7125090968112651, 0.29111729989983476, 0.29111729989983476, 0.29111729989983476, 0.29942483693416216, 0.29942483693416216, 0.29942483693416216, 0.5431120450237478, 0.5431120450237478, 0.7836562253027088, 0.2612187417675696, 0.2881853257051771, 0.2881853257051771, 0.47825084544433466, 0.7127462349103806, 0.82184244229802, 0.3476482605426867, 0.6952965210853734, 0.4750613008893316, 0.4750613008893316, 0.8218456513439302, 0.7124988636167023, 0.7080076485404112, 0.514251752570452, 0.514251752570452, 0.7284912300854922, 0.7240889810863664, 0.7127478868940366, 0.28943933770410546, 0.28943933770410546, 0.28943933770410546, 0.06789327651948568, 0.2715731060779427, 0.06789327651948568, 0.40735965911691413, 0.06789327651948568, 0.06789327651948568, 0.7205592295974226, 0.466705546220195, 0.466705546220195, 0.7205554090311379, 0.7285050776753038, 0.21661708802359492, 0.43323417604718983, 0.21661708802359492, 0.29429427199462455, 0.14714713599731227, 0.14714713599731227, 0.29429427199462455, 0.14714713599731227, 0.7285061193644476, 0.7127506335552884, 0.7691974193477299, 0.22121788393812716, 0.22121788393812716, 0.22121788393812716, 0.22121788393812716, 0.8218505601390746, 0.7527121995686745, 0.28807918808987715, 0.28807918808987715, 0.28807918808987715, 0.7667263496446743, 0.06307277497814258, 0.2522910999125703, 0.2522910999125703, 0.06307277497814258, 0.18921832493442775, 0.06307277497814258, 0.06307277497814258, 0.06307277497814258, 0.21088560569721754, 0.4217712113944351, 0.21088560569721754, 0.21088560569721754, 0.7240921618380918, 0.2963399698933411, 0.2963399698933411, 0.2963399698933411, 0.2963399698933411, 0.514381941016595, 0.514381941016595, 0.7241024305834848, 0.22532472297912204, 0.22532472297912204, 0.22532472297912204, 0.22532472297912204, 0.7667238601340661, 0.7526880943318008, 0.724089240879557, 0.29601256100030604, 0.5920251220006121, 0.7205601504906309, 0.7080030411053806, 0.7667243233785479, 0.7205525082203288, 0.7080068942791928, 0.41044466674443125, 0.20522233337221563, 0.20522233337221563, 0.2417264717563987, 0.2417264717563987, 0.2417264717563987, 0.2417264717563987, 0.2985088079273853, 0.2985088079273853, 0.4842186148527392, 0.4842186148527392, 0.7526895784567336, 0.365046644836505, 0.365046644836505, 0.365046644836505, 0.7205547609630577, 0.7241049132511326, 0.8218380336191935, 0.5419101024106519, 0.5419101024106519, 0.7667217845781861, 0.7127411003963934, 0.7127502380695201, 0.7347049117589117, 0.7337314217207334, 0.7527064432967986, 0.7526919310386638, 0.7125126047033818, 0.728508023601941, 0.7285010875168572, 0.49578509355150613, 0.49578509355150613, 0.7205430277739031, 0.7127480820816153, 0.47168249587973654, 0.7241005521705446, 0.7667174496975684, 0.376753779330325, 0.376753779330325, 0.7127350926137249, 0.70801159579888, 0.7127431137220952, 0.7721209966479916, 0.08537414241382855, 0.08537414241382855, 0.08537414241382855, 0.1707482848276571, 0.3414965696553142, 0.08537414241382855, 0.08537414241382855, 0.08537414241382855, 0.38729346332378595, 0.38729346332378595, 0.38729346332378595, 0.7080019617370042, 0.5047043061730702, 0.7328076941112942, 0.35699479253989047, 0.7139895850797809, 0.2823010897265184, 0.2823010897265184, 0.2823010897265184, 0.5142627355807609, 0.5142627355807609, 0.48463486228747144, 0.24231743114373572, 0.24231743114373572, 0.724095048884508, 0.7527012287586389, 0.766725183254759, 0.7125016676200215, 0.3645805381299902, 0.3645805381299902, 0.47966478617008446, 0.47966478617008446, 0.7241075161991875, 0.938403099307877, 0.7205547613167607, 0.28875588137323943, 0.28875588137323943, 0.28875588137323943, 0.29047779560575854, 0.29047779560575854, 0.29047779560575854, 0.7205433541888114, 0.8218390218762239, 0.5635748356042876, 0.2817874178021438, 0.07866095105370936, 0.07866095105370936, 0.07866095105370936, 0.07866095105370936, 0.23598285316112808, 0.07866095105370936, 0.23598285316112808, 0.07866095105370936, 0.07866095105370936, 0.7527009935579995, 0.7240999296300744, 0.7079936608801582, 0.7364030945580141, 0.7241049269741167, 0.4867592214660471, 0.24337961073302355, 0.24337961073302355, 0.29532975606243245, 0.29532975606243245, 0.29532975606243245, 0.7096050414061121, 0.48034519210301324, 0.24017259605150662, 0.24017259605150662, 0.720555940927959, 0.7205624831165003, 0.7240915460682639, 0.7527019576031232, 0.7125061304160321, 0.14547836133123615, 0.2909567226624723, 0.14547836133123615, 0.2909567226624723, 0.14547836133123615, 0.7125148791851436, 0.7241037087807563, 0.7667181285428364, 0.7732529855478025, 0.4831813452884801, 0.48960831326822746, 0.48960831326822746, 0.17632218663558868, 0.35264437327117737, 0.35264437327117737, 0.24540958257039328, 0.24540958257039328, 0.24540958257039328, 0.7527159003580778, 0.7527073865925816, 0.5422018511701332, 0.5422018511701332, 0.30268419545798064, 0.45402629318697096, 0.30268419545798064, 0.7285050710434783, 0.40013033860609476, 0.20006516930304738, 0.40013033860609476, 0.724098594153363, 0.7285093001662166, 0.3609511339903225, 0.3609511339903225, 0.3609511339903225, 0.7127478784903947, 0.2149151074409289, 0.6447453223227867, 0.7240922727757371, 0.720545195999178, 0.17845828708882963, 0.35691657417765926, 0.17845828708882963, 0.17845828708882963, 0.30588246724229595, 0.30588246724229595, 0.30588246724229595, 0.3603855923220564, 0.3603855923220564, 0.3603855923220564, 0.7127513847417508, 0.7079990547834236, 0.7050641089037433, 0.35253205445187163, 0.2867773963035107, 0.2867773963035107, 0.2867773963035107, 0.7285097743306037, 0.36230528861328437, 0.36230528861328437, 0.7667142253163376, 0.4831729043932122, 0.769458064919232, 0.16301372080124274, 0.24452058120186412, 0.16301372080124274, 0.08150686040062137, 0.16301372080124274, 0.08150686040062137, 0.08150686040062137, 0.12285083467655973, 0.12285083467655973, 0.12285083467655973, 0.3685525040296792, 0.12285083467655973, 0.31352952697538056, 0.0627059053950761, 0.1254118107901522, 0.1254118107901522, 0.0627059053950761, 0.0627059053950761, 0.0627059053950761, 0.1254118107901522, 0.1254118107901522, 0.1122927733784562, 0.33687832013536856, 0.1122927733784562, 0.33687832013536856, 0.1122927733784562, 0.1122927733784562, 0.1122927733784562, 0.34949830600012743, 0.6989966120002549, 0.712748209444933, 0.7284866939801286, 0.25297762617354796, 0.25297762617354796, 0.25297762617354796, 0.25297762617354796, 0.7125065148822667, 0.32169436709617366, 0.32169436709617366, 0.32169436709617366, 0.7667193820428336, 0.7667221095852792, 0.18253242877025677, 0.18253242877025677, 0.18253242877025677, 0.18253242877025677, 0.18253242877025677, 0.18253242877025677, 0.3251408853477234, 0.1625704426738617, 0.1625704426738617, 0.1625704426738617, 0.1625704426738617, 0.1625704426738617], \"Term\": [\"accidents\", \"accordingly\", \"accurate\", \"active\", \"additional\", \"agricultural\", \"agriculture\", \"agriculture\", \"air\", \"air\", \"air\", \"air\", \"air\", \"air\", \"allochthonous\", \"allow\", \"almost\", \"along\", \"also\", \"also\", \"ammonia\", \"ammonia\", \"among\", \"amount\", \"amount\", \"amount\", \"amount\", \"amount\", \"anaerobic\", \"annual\", \"annual\", \"annual\", \"annual\", \"annual\", \"approximately\", \"arctic\", \"area\", \"area\", \"area\", \"area\", \"area\", \"areas\", \"artificial\", \"assessed\", \"assessment\", \"assessment\", \"assume\", \"atlantic\", \"autochtonal\", \"autumn\", \"autumn\", \"average\", \"average\", \"average\", \"average\", \"average\", \"average\", \"balance\", \"bank\", \"basin\", \"basin\", \"basin\", \"basin\", \"basin\", \"basin\", \"basin\", \"basin\", \"basin\", \"beginning\", \"belongs\", \"besides\", \"big\", \"big\", \"biggest\", \"biggest\", \"biggest\", \"biggest\", \"biological\", \"biotope\", \"black\", \"black\", \"bod\", \"bodies\", \"bodies\", \"bodies\", \"bodies\", \"bodies\", \"borders\", \"bottom\", \"bottom\", \"bright\", \"bring\", \"bug\", \"bug\", \"bug\", \"bug\", \"bug\", \"bug\", \"bug\", \"bug\", \"bug\", \"capacity\", \"carries\", \"case\", \"categories\", \"causes\", \"centers\", \"change\", \"characterized\", \"characterized\", \"characterized\", \"characterized\", \"characterized\", \"characterized\", \"chemical\", \"chemical\", \"chemical\", \"cherkasy\", \"circulation\", \"cities\", \"cities\", \"cities\", \"cities\", \"cities\", \"city\", \"classified\", \"climate\", \"close\", \"cm\", \"cm\", \"cold\", \"collection\", \"comes\", \"comes\", \"comes\", \"commission\", \"communal\", \"communal\", \"communal\", \"comply\", \"components\", \"composition\", \"composition\", \"compounds\", \"compounds\", \"compounds\", \"compounds\", \"compounds\", \"compounds\", \"concentrations\", \"concentrations\", \"concentrations\", \"concentrations\", \"concern\", \"conclusion\", \"conditions\", \"conditions\", \"conditions\", \"confidence\", \"confirm\", \"connected\", \"connection\", \"considerable\", \"considerable\", \"considered\", \"constructed\", \"containing\", \"continental\", \"contributes\", \"convincingly\", \"cooling\", \"corresponding\", \"cost\", \"cover\", \"cover\", \"cover\", \"current\", \"danube\", \"days\", \"december\", \"decrease\", \"deep\", \"deeply\", \"dependency\", \"depth\", \"designed\", \"destruction\", \"deterioration\", \"determined\", \"detritus\", \"different\", \"difficulties\", \"dilution\", \"direct\", \"directive\", \"directive\", \"directive\", \"discharge\", \"discharge\", \"discharge\", \"discharge\", \"discharge\", \"discharged\", \"discharged\", \"discharged\", \"discharges\", \"discharges\", \"discharges\", \"displacement\", \"dissected\", \"dissolved\", \"distinguished\", \"distributed\", \"district\", \"districts\", \"diversity\", \"dm\", \"dnieper\", \"dnieper\", \"dnieper\", \"document\", \"done\", \"done\", \"done\", \"downstream\", \"downstream\", \"drought\", \"dry\", \"due\", \"due\", \"due\", \"due\", \"due\", \"dull\", \"east\", \"east\", \"eastern\", \"ecological\", \"ecosystems\", \"effective\", \"efficiency\", \"eh\", \"eh\", \"eh\", \"electric\", \"elements\", \"elevation\", \"elevation\", \"elevations\", \"end\", \"enter\", \"entering\", \"entering\", \"enterprises\", \"especially\", \"established\", \"established\", \"estimates\", \"estuary\", \"eu\", \"eu\", \"eu\", \"eutrofication\", \"exceed\", \"exceeds\", \"existing\", \"extracting\", \"extraction\", \"facilities\", \"facilities\", \"facilities\", \"facilities\", \"facilities\", \"fact\", \"factor\", \"february\", \"field\", \"financial\", \"first\", \"first\", \"five\", \"flat\", \"following\", \"follows\", \"forests\", \"form\", \"form\", \"form\", \"formation\", \"forms\", \"forms\", \"forth\", \"found\", \"four\", \"frequent\", \"frost\", \"fully\", \"general\", \"generates\", \"geological\", \"given\", \"greater\", \"greatest\", \"group\", \"half\", \"half\", \"hardly\", \"heated\", \"heavily\", \"high\", \"higher\", \"higher\", \"highest\", \"icpdr\", \"impact\", \"implementation\", \"increase\", \"increase\", \"ineffectively\", \"inefficiently\", \"influence\", \"influenced\", \"inorganic\", \"inorganic\", \"inorganic\", \"input\", \"insignificant\", \"intensification\", \"intensified\", \"intensively\", \"international\", \"investigated\", \"ions\", \"ions\", \"ions\", \"ions\", \"ions\", \"issue\", \"judgment\", \"july\", \"kg\", \"khmelnitsky\", \"khmelnitsky\", \"khmelnitsky\", \"khmelnitsky\", \"khmelnitsky\", \"khmelnytsky\", \"khmelnytsky\", \"khmelnytsky\", \"kholodets\", \"kirogovrad\", \"kirovograd\", \"kirovograd\", \"kirovograd\", \"kirovograd\", \"kirovograd\", \"km\", \"km\", \"km\", \"known\", \"lack\", \"lack\", \"ladyzhyn\", \"ladyzhyn\", \"lakes\", \"lakes\", \"large\", \"large\", \"large\", \"large\", \"lead\", \"lead\", \"lead\", \"leave\", \"length\", \"length\", \"limits\", \"limits\", \"liquid\", \"localities\", \"located\", \"located\", \"located\", \"located\", \"lod\", \"long\", \"loq\", \"lower\", \"lower\", \"lower\", \"lower\", \"lower\", \"lowest\", \"lowest\", \"lowlands\", \"main\", \"main\", \"main\", \"major\", \"major\", \"major\", \"majority\", \"makes\", \"makes\", \"makes\", \"many\", \"map\", \"map\", \"map\", \"march\", \"matter\", \"matter\", \"maximum\", \"maximum\", \"maximum\", \"mediterranean\", \"melts\", \"mentioned\", \"mentioned\", \"mg\", \"mg\", \"middle\", \"middle\", \"middle\", \"middle\", \"middle\", \"min\", \"mine\", \"mine\", \"mine\", \"mineral\", \"mineral\", \"mineral\", \"mineralization\", \"mineralization\", \"mln\", \"mln\", \"mm\", \"mm\", \"moderately\", \"modernization\", \"modified\", \"monitoring\", \"monitoring\", \"much\", \"much\", \"multi\", \"mygiya\", \"mykolayiv\", \"namely\", \"namely\", \"near\", \"networks\", \"ninorg\", \"nitrate\", \"nitrate\", \"nitrate\", \"nitrogen\", \"nitrogen\", \"nitrogen\", \"nitrogen\", \"nitrogen\", \"nitrogen\", \"norm\", \"north\", \"north\", \"noticeable\", \"nova\", \"observed\", \"observed\", \"observed\", \"oc\", \"oc\", \"oc\", \"oc\", \"oc\", \"odesa\", \"offered\", \"order\", \"organic\", \"organic\", \"organic\", \"organic\", \"organized\", \"outdated\", \"oxygen\", \"oxygen\", \"oxygen\", \"parameters\", \"part\", \"part\", \"part\", \"part\", \"part\", \"part\", \"part\", \"part\", \"parts\", \"parts\", \"parts\", \"parts\", \"penetration\", \"per\", \"per\", \"per\", \"per\", \"period\", \"period\", \"phosphates\", \"phosphorus\", \"phosphorus\", \"phosphorus\", \"phosphorus\", \"physical\", \"physically\", \"pic\", \"picture\", \"picture\", \"place\", \"plain\", \"plan\", \"plateau\", \"plays\", \"pollutants\", \"pollutants\", \"pollutants\", \"pollution\", \"pollution\", \"pollution\", \"pollution\", \"power\", \"power\", \"precipitation\", \"precipitation\", \"present\", \"process\", \"process\", \"process\", \"processing\", \"produced\", \"production\", \"project\", \"project\", \"proper\", \"protection\", \"provide\", \"provisions\", \"quality\", \"rainy\", \"ranges\", \"rapids\", \"rate\", \"reaching\", \"receiving\", \"receiving\", \"reducing\", \"regarding\", \"related\", \"repaired\", \"research\", \"reservoir\", \"reservoir\", \"reservoirs\", \"right\", \"rise\", \"risk\", \"river\", \"river\", \"river\", \"river\", \"river\", \"river\", \"river\", \"river\", \"rivers\", \"rivers\", \"rivers\", \"role\", \"rural\", \"said\", \"sea\", \"sea\", \"second\", \"second\", \"second\", \"sediments\", \"sediments\", \"settlements\", \"settlements\", \"settlements\", \"seven\", \"sewers\", \"shall\", \"show\", \"significant\", \"significant\", \"similar\", \"similar\", \"since\", \"site\", \"size\", \"smoline\", \"smoline\", \"smoline\", \"snow\", \"snow\", \"snow\", \"solid\", \"sources\", \"south\", \"south\", \"southern\", \"southern\", \"southern\", \"southern\", \"southern\", \"southern\", \"southern\", \"southern\", \"southern\", \"soviet\", \"spatial\", \"spreads\", \"standards\", \"state\", \"status\", \"status\", \"status\", \"storage\", \"storage\", \"storage\", \"summer\", \"surface\", \"surface\", \"surface\", \"system\", \"takes\", \"taking\", \"technologically\", \"technologies\", \"temperature\", \"temperature\", \"temperature\", \"temperature\", \"temperature\", \"tendency\", \"territory\", \"throughout\", \"thus\", \"till\", \"time\", \"time\", \"tons\", \"tons\", \"tons\", \"total\", \"total\", \"total\", \"towns\", \"transition\", \"transitional\", \"transitional\", \"treatment\", \"treatment\", \"treatment\", \"two\", \"ukraine\", \"ukraine\", \"ukraine\", \"uman\", \"upstream\", \"urban\", \"urban\", \"urban\", \"urgent\", \"users\", \"users\", \"using\", \"valleys\", \"values\", \"values\", \"values\", \"values\", \"varies\", \"varies\", \"varies\", \"vatutino\", \"vatutino\", \"vatutino\", \"vegetation\", \"villages\", \"vinnistya\", \"vinnistya\", \"vinnitsya\", \"vinnitsya\", \"vinnitsya\", \"vllage\", \"vodocanals\", \"vodocanals\", \"volume\", \"volumes\", \"washing\", \"wastewater\", \"wastewater\", \"wastewater\", \"wastewater\", \"wastewater\", \"wastewater\", \"wastewater\", \"wastewaters\", \"wastewaters\", \"wastewaters\", \"wastewaters\", \"wastewaters\", \"water\", \"water\", \"water\", \"water\", \"water\", \"water\", \"water\", \"water\", \"water\", \"waters\", \"waters\", \"waters\", \"waters\", \"waters\", \"waters\", \"waters\", \"west\", \"west\", \"whole\", \"widely\", \"winter\", \"winter\", \"winter\", \"winter\", \"wit\", \"within\", \"within\", \"within\", \"without\", \"worn\", \"wwtps\", \"wwtps\", \"wwtps\", \"wwtps\", \"wwtps\", \"wwtps\", \"year\", \"year\", \"year\", \"year\", \"year\", \"year\"]}, \"R\": 30, \"lambda.step\": 0.01, \"plot.opts\": {\"xlab\": \"PC1\", \"ylab\": \"PC2\"}, \"topic.order\": [10, 3, 5, 4, 7, 8, 6, 1, 2, 9]};\n",
       "\n",
       "function LDAvis_load_lib(url, callback){\n",
       "  var s = document.createElement('script');\n",
       "  s.src = url;\n",
       "  s.async = true;\n",
       "  s.onreadystatechange = s.onload = callback;\n",
       "  s.onerror = function(){console.warn(\"failed to load library \" + url);};\n",
       "  document.getElementsByTagName(\"head\")[0].appendChild(s);\n",
       "}\n",
       "\n",
       "if(typeof(LDAvis) !== \"undefined\"){\n",
       "   // already loaded: just create the visualization\n",
       "   !function(LDAvis){\n",
       "       new LDAvis(\"#\" + \"ldavis_el679201406623124157447635118820\", ldavis_el679201406623124157447635118820_data);\n",
       "   }(LDAvis);\n",
       "}else if(typeof define === \"function\" && define.amd){\n",
       "   // require.js is available: use it to load d3/LDAvis\n",
       "   require.config({paths: {d3: \"https://d3js.org/d3.v5\"}});\n",
       "   require([\"d3\"], function(d3){\n",
       "      window.d3 = d3;\n",
       "      LDAvis_load_lib(\"https://cdn.jsdelivr.net/gh/bmabey/pyLDAvis@3.3.1/pyLDAvis/js/ldavis.v3.0.0.js\", function(){\n",
       "        new LDAvis(\"#\" + \"ldavis_el679201406623124157447635118820\", ldavis_el679201406623124157447635118820_data);\n",
       "      });\n",
       "    });\n",
       "}else{\n",
       "    // require.js not available: dynamically load d3 & LDAvis\n",
       "    LDAvis_load_lib(\"https://d3js.org/d3.v5.js\", function(){\n",
       "         LDAvis_load_lib(\"https://cdn.jsdelivr.net/gh/bmabey/pyLDAvis@3.3.1/pyLDAvis/js/ldavis.v3.0.0.js\", function(){\n",
       "                 new LDAvis(\"#\" + \"ldavis_el679201406623124157447635118820\", ldavis_el679201406623124157447635118820_data);\n",
       "            })\n",
       "         });\n",
       "}\n",
       "</script>"
      ],
      "text/plain": [
       "PreparedData(topic_coordinates=              x         y  topics  cluster       Freq\n",
       "topic                                                \n",
       "9     -0.003869  0.020959       1        1  13.746862\n",
       "2     -0.122710 -0.031680       2        1  12.258615\n",
       "4      0.000382  0.112989       3        1  11.237471\n",
       "3     -0.124829 -0.060910       4        1  10.983154\n",
       "6     -0.011373 -0.074110       5        1  10.932618\n",
       "7     -0.029452  0.093156       6        1  10.462514\n",
       "5      0.128762 -0.089442       7        1  10.291493\n",
       "0      0.056467  0.080218       8        1   8.628271\n",
       "1      0.063052 -0.017202       9        1   5.875480\n",
       "8      0.043569 -0.033978      10        1   5.583522, topic_info=           Term       Freq      Total Category  logprob  loglift\n",
       "40     nitrogen  14.000000  14.000000  Default  30.0000  30.0000\n",
       "0         basin  19.000000  19.000000  Default  29.0000  29.0000\n",
       "56        water  15.000000  15.000000  Default  28.0000  28.0000\n",
       "476     climate   4.000000   4.000000  Default  27.0000  27.0000\n",
       "1           bug  13.000000  13.000000  Default  26.0000  26.0000\n",
       "..          ...        ...        ...      ...      ...      ...\n",
       "167  phosphorus   0.690316   4.438039  Topic10  -4.7223   1.0245\n",
       "41      organic   0.669735   4.520430  Topic10  -4.7526   0.9759\n",
       "187      values   0.670346   5.603550  Topic10  -4.7517   0.7620\n",
       "30         part   0.690302  15.854701  Topic10  -4.7223  -0.2487\n",
       "8      southern   0.649693  12.712788  Topic10  -4.7830  -0.0885\n",
       "\n",
       "[566 rows x 6 columns], token_table=      Topic      Freq         Term\n",
       "term                              \n",
       "94        2  0.713412    accidents\n",
       "226       9  0.821840  accordingly\n",
       "123       6  0.752702     accurate\n",
       "525       3  0.712745       active\n",
       "183       8  0.728499   additional\n",
       "...     ...       ...          ...\n",
       "11        2  0.162570         year\n",
       "11        3  0.162570         year\n",
       "11        4  0.162570         year\n",
       "11        5  0.162570         year\n",
       "11        9  0.162570         year\n",
       "\n",
       "[756 rows x 3 columns], R=30, lambda_step=0.01, plot_opts={'xlab': 'PC1', 'ylab': 'PC2'}, topic_order=[10, 3, 5, 4, 7, 8, 6, 1, 2, 9])"
      ]
     },
     "execution_count": 24,
     "metadata": {},
     "output_type": "execute_result"
    }
   ],
   "source": [
    "import pyLDAvis.gensim_models\n",
    "import pickle \n",
    "import pyLDAvis\n",
    "\n",
    "# Visualize the topics\n",
    "pyLDAvis.enable_notebook()\n",
    "LDAvis_data_filepath = os.path.join('./results/ldavis_prepared_'+str(num_topics))\n",
    "\n",
    "# # this is a bit time consuming - make the if statement True\n",
    "# # if you want to execute visualization prep yourself\n",
    "if 1 == 1:\n",
    "    LDAvis_prepared = pyLDAvis.gensim_models.prepare(lda_model, corpus, id2word)\n",
    "    with open(LDAvis_data_filepath, 'wb') as f:\n",
    "        pickle.dump(LDAvis_prepared, f)\n",
    "\n",
    "# load the pre-prepared pyLDAvis data from disk\n",
    "with open(LDAvis_data_filepath, 'rb') as f:\n",
    "    LDAvis_prepared = pickle.load(f)\n",
    "pyLDAvis.save_html(LDAvis_prepared, './results/ldavis_prepared_'+ str(num_topics) +'.html')\n",
    "LDAvis_prepared"
   ]
  },
  {
   "cell_type": "code",
   "execution_count": 34,
   "metadata": {},
   "outputs": [
    {
     "data": {
      "text/plain": [
       "[(8, 0.5499279),\n",
       " (6, 0.050020903),\n",
       " (5, 0.05001715),\n",
       " (1, 0.050012782),\n",
       " (3, 0.05000857),\n",
       " (7, 0.05000403),\n",
       " (2, 0.050003275),\n",
       " (4, 0.05000265),\n",
       " (9, 0.050002478),\n",
       " (0, 0.050000336)]"
      ]
     },
     "execution_count": 34,
     "metadata": {},
     "output_type": "execute_result"
    }
   ],
   "source": [
    "from gensim.test.utils import common_corpus, common_dictionary\n",
    "\n",
    "# TODO: No usar el common_dictionary. Hay que extrapolar o generalizar exactamente el mismo que para los modelos. Tal vez con eso lo que devuelva tenga algo de sentido también.\n",
    "\n",
    "interest_themes = [['human']]\n",
    "interest_themes_corpus = [common_dictionary.doc2bow(text) for text in interest_themes]\n",
    "sorted(lda_model[interest_themes_corpus[0]], key=lambda x: x[1], reverse=True)"
   ]
  }
 ],
 "metadata": {
  "interpreter": {
   "hash": "e2c9e65f06bfd45253040872e0afda1185b4bf23569d7834d5a3f494ff41c274"
  },
  "kernelspec": {
   "display_name": "Python 3.9.7 ('base')",
   "language": "python",
   "name": "python3"
  },
  "language_info": {
   "codemirror_mode": {
    "name": "ipython",
    "version": 3
   },
   "file_extension": ".py",
   "mimetype": "text/x-python",
   "name": "python",
   "nbconvert_exporter": "python",
   "pygments_lexer": "ipython3",
   "version": "3.9.7"
  },
  "orig_nbformat": 4
 },
 "nbformat": 4,
 "nbformat_minor": 2
}
